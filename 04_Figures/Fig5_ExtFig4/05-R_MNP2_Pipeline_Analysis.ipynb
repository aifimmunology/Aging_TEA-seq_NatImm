{
 "cells": [
  {
   "cell_type": "code",
   "execution_count": null,
   "id": "7a3d097a-fe36-42e1-813d-66900dcf2504",
   "metadata": {
    "tags": []
   },
   "outputs": [],
   "source": [
    "quiet_library <- function(...) {\n",
    "    suppressPackageStartupMessages(library(...))\n",
    "}\n",
    "quiet_library(Seurat)\n",
    "quiet_library(ggplot2)\n",
    "quiet_library(Matrix)\n",
    "quiet_library(H5weaver)\n",
    "quiet_library(dplyr)\n",
    "quiet_library(viridis)\n",
    "quiet_library(harmony)\n",
    "quiet_library(Nebulosa)"
   ]
  },
  {
   "cell_type": "code",
   "execution_count": null,
   "id": "9dae27df-7283-4416-895b-172f5c260958",
   "metadata": {},
   "outputs": [],
   "source": [
    "t_cells <- readRDS('../../09_Vax/clean_aging_t_cells.rds')"
   ]
  },
  {
   "cell_type": "code",
   "execution_count": null,
   "id": "519e4db0-286d-4fde-a867-b3225b0eece9",
   "metadata": {},
   "outputs": [],
   "source": [
    "t_cells"
   ]
  },
  {
   "cell_type": "code",
   "execution_count": null,
   "id": "7adc660d-8273-4b57-8961-09145aa9d2d6",
   "metadata": {},
   "outputs": [],
   "source": [
    "table(t_cells$age)"
   ]
  },
  {
   "cell_type": "code",
   "execution_count": null,
   "id": "31252dba-b8cd-4eb7-bf6c-f78d13cfa154",
   "metadata": {
    "tags": []
   },
   "outputs": [],
   "source": [
    "sort(unique(t_cells$pbmc_sample_id))"
   ]
  },
  {
   "cell_type": "code",
   "execution_count": null,
   "id": "36f6f63f-6902-4a09-85bc-35a6459869c3",
   "metadata": {},
   "outputs": [],
   "source": [
    "t_cells <- SetIdent(t_cells, value = 'pbmc_sample_id')\n",
    "t_cells <- RenameIdents(t_cells,\n",
    "                        'PB00892-01'='M','PB00833-01'='M','PB00913-01'='M','PB00928-01'='M','PB00809-01'='F',\n",
    "                        'PB00842-01'='M','PB00914-01'='M','PB00841-01'='F','PB00910-01'='F',\n",
    "                        'PB00811-01'='F','PB00884-01'='M','PB00927-01'='F','PB02391-001'='F', \n",
    "                        'PB00193-01'='F','PB00026-05'='M','PB00010-02'='M','PB00003-01'='F',\n",
    "                        'PB00031-05'='F','PB00507-01'='F','PB00002-01'='M','PB00384-01'='M',\n",
    "                        'PB00006-01'='F','PB00023-05'='F','PB00041-01'='M',\n",
    "                        'PB00022-01'='F','PB00363-01'='M','PB00386-01'='M','PB00366-01'='F',\n",
    "                        'PB00030-03'='F','PB00004-01'='M','PB00552-01'='F','PB00356-01'='M',\n",
    "                        'PB00530-01'='F','PB00510-01'='M','PB00352-04'='F','PB00015-01'='M',\n",
    "                        'PB00388-01'='F','PB00539-01'='M','PB00569-01'='F','PB00342-01'='M','PB00566-01'='M',\n",
    "                        'PB00537-01'='F','PB00561-01'='F','PB00562-01'='M','PB00568-01'='F',\n",
    "                        'PB00582-01'='M','PB03223-001'='M','PB02392-001'='F')\n",
    "t_cells$sex <- Idents(t_cells)"
   ]
  },
  {
   "cell_type": "code",
   "execution_count": null,
   "id": "72361e43-c135-4175-b55d-935a0f9922f2",
   "metadata": {},
   "outputs": [],
   "source": [
    "options(repr.plot.width = 8, repr.plot.height = 8)\n",
    "DimPlot(t_cells, label = TRUE, repel = TRUE, group.by = 'SCT_snn_res.0.5')\n",
    "DimPlot(t_cells, label = TRUE, repel = TRUE, group.by = 'sex')"
   ]
  },
  {
   "cell_type": "code",
   "execution_count": null,
   "id": "e0cd5d7b-7754-4382-8df9-3dfd95b0b9a4",
   "metadata": {},
   "outputs": [],
   "source": [
    "options(repr.plot.width = 20, repr.plot.height = 20)\n",
    "DimPlot(t_cells, split.by = 'batch_id', ncol = 4, group.by = 'SCT_snn_res.0.5')"
   ]
  },
  {
   "cell_type": "code",
   "execution_count": null,
   "id": "54aef1e9-6bc2-4125-b3a1-50c33c2f06a2",
   "metadata": {},
   "outputs": [],
   "source": [
    "t_cells <- SetIdent(t_cells, value = 'SCT_snn_res.0.5')\n",
    "t_cells <- FindSubCluster(object = t_cells, cluster = 12, graph.name = 'SCT_snn', resolution = 0.2)\n",
    "Idents(t_cells) <- \"sub.cluster\""
   ]
  },
  {
   "cell_type": "code",
   "execution_count": null,
   "id": "3e275d4a-a4e6-491a-8442-5d78a7a49cca",
   "metadata": {},
   "outputs": [],
   "source": [
    "options(repr.plot.width = 10, repr.plot.height = 8)\n",
    "DimPlot(t_cells, label = TRUE, repel = TRUE)\n",
    "table(t_cells$sub.cluster)"
   ]
  },
  {
   "cell_type": "code",
   "execution_count": null,
   "id": "7e0711f6-4f26-44f0-b22d-a0d428d0708a",
   "metadata": {},
   "outputs": [],
   "source": [
    "DefaultAssay(t_cells) <- 'RNA'\n",
    "t_cells <- NormalizeData(t_cells)"
   ]
  },
  {
   "cell_type": "code",
   "execution_count": null,
   "id": "b8971388-67a3-4e64-960a-53510456ca2d",
   "metadata": {},
   "outputs": [],
   "source": [
    "options(repr.plot.width = 20, repr.plot.height = 8)\n",
    "VlnPlot(t_cells, features = c('KLRC2','ZNF683','CD3E','CD3G','TRGC2','TRDC',\n",
    "                              'IKZF2','LEF1'), ncol = 2, pt.size = 0)"
   ]
  },
  {
   "cell_type": "code",
   "execution_count": null,
   "id": "ff8e4fcb-41d5-426b-8168-35a3f4c90b30",
   "metadata": {},
   "outputs": [],
   "source": [
    "options(repr.plot.width = 20, repr.plot.height = 12)\n",
    "FeaturePlot(t_cells, features = c('KLRC2','ZNF683','IKZF2',\n",
    "                                  'TRGC1','TRGC2','TRDC',\n",
    "                                  'IL21R','CD8A','DUSP2'), ncol = 3, order = TRUE)"
   ]
  },
  {
   "cell_type": "code",
   "execution_count": null,
   "id": "c116b8b5-7278-4df1-ab96-b226b9d54aef",
   "metadata": {},
   "outputs": [],
   "source": [
    "mnp2_markers <- FindMarkers(t_cells, `ident.1` = '12_1', max.cells.per.ident = 500)"
   ]
  },
  {
   "cell_type": "code",
   "execution_count": null,
   "id": "6aa26164-1819-4048-a5b2-1b30f1465cdf",
   "metadata": {},
   "outputs": [],
   "source": [
    "head(subset(mnp2_markers, avg_log2FC > 0), n=20)"
   ]
  },
  {
   "cell_type": "code",
   "execution_count": null,
   "id": "92d362a5-cd81-4d81-8777-f84e0626e201",
   "metadata": {},
   "outputs": [],
   "source": [
    "ped_gdT_markers <- FindMarkers(t_cells, `ident.1` = '12_0', max.cells.per.ident = 500)"
   ]
  },
  {
   "cell_type": "code",
   "execution_count": null,
   "id": "bbcf8d5a-716b-4a27-ba4e-161288cfee97",
   "metadata": {},
   "outputs": [],
   "source": [
    "head(subset(ped_gdT_markers, avg_log2FC > 0), n=20)"
   ]
  },
  {
   "cell_type": "code",
   "execution_count": null,
   "id": "170018a7-76ae-4028-bb0d-905e04ff35c5",
   "metadata": {},
   "outputs": [],
   "source": [
    "cluster12_2 <- FindMarkers(t_cells, `ident.1` = '12_2', max.cells.per.ident = 500)"
   ]
  },
  {
   "cell_type": "code",
   "execution_count": null,
   "id": "6ce2cc2c-614a-4203-a62f-b1377398caf6",
   "metadata": {},
   "outputs": [],
   "source": [
    "head(subset(cluster12_2, avg_log2FC > 0), n=20)"
   ]
  },
  {
   "cell_type": "code",
   "execution_count": null,
   "id": "58c113ff-19d1-4711-a8cc-74038d0c7b7b",
   "metadata": {},
   "outputs": [],
   "source": [
    "t_cells <- SetIdent(t_cells, value = 'age')\n",
    "subset_50k <- subset(t_cells, downsample = 75000)"
   ]
  },
  {
   "cell_type": "code",
   "execution_count": null,
   "id": "030bdad7-d237-498e-90c9-4bee5842cd0b",
   "metadata": {},
   "outputs": [],
   "source": [
    "p <- plot_density(subset_50k, c('IL21R','LEF1','KLRC2'), joint = TRUE)"
   ]
  },
  {
   "cell_type": "markdown",
   "id": "0c45adf4-7593-4e9f-9910-ce98c35ac26c",
   "metadata": {},
   "source": [
    "## Fig 5I"
   ]
  },
  {
   "cell_type": "code",
   "execution_count": null,
   "id": "c2369c74-228a-4d65-b0f9-32780bd4449e",
   "metadata": {},
   "outputs": [],
   "source": [
    "options(repr.plot.width = 12, repr.plot.height = 12)\n",
    "p"
   ]
  },
  {
   "cell_type": "code",
   "execution_count": null,
   "id": "54e5320b-945a-4155-9b61-56e4ad5db52a",
   "metadata": {},
   "outputs": [],
   "source": [
    "p <- plot_density(subset_50k, c('LEF1','DUSP2'), joint = TRUE)"
   ]
  },
  {
   "cell_type": "code",
   "execution_count": null,
   "id": "0de26d7f-f397-4d44-a609-6112910f18b0",
   "metadata": {},
   "outputs": [],
   "source": [
    "options(repr.plot.width = 12, repr.plot.height = 12)\n",
    "p + plot_layout(ncol = 2)"
   ]
  },
  {
   "cell_type": "code",
   "execution_count": null,
   "id": "1988ca05-0a92-43be-ab8a-a5aa7d6ec0ea",
   "metadata": {},
   "outputs": [],
   "source": [
    "p <- plot_density(subset_50k, c('LEF1','KLRC3','CD8A'), joint = TRUE)"
   ]
  },
  {
   "cell_type": "code",
   "execution_count": null,
   "id": "cc1fc7de-304e-477f-bf82-d28e19e2d093",
   "metadata": {},
   "outputs": [],
   "source": [
    "options(repr.plot.width = 12, repr.plot.height = 12)\n",
    "p + plot_layout(ncol = 2)"
   ]
  },
  {
   "cell_type": "code",
   "execution_count": null,
   "id": "15747a48-8b8d-4b9d-a653-592d35a57e84",
   "metadata": {},
   "outputs": [],
   "source": [
    "# Open a pdf file\n",
    "pdf(\"plots/mnp2_pipeline_markers_nebulosa_umap_May23.pdf\", width = 12, height = 12) \n",
    "# 2. Create a plot\n",
    "p\n",
    "# Close the pdf file\n",
    "dev.off() "
   ]
  },
  {
   "cell_type": "markdown",
   "id": "2f7beb37-05cc-4e73-8bdb-415756da66e4",
   "metadata": {},
   "source": [
    "# CB MNP-2"
   ]
  },
  {
   "cell_type": "code",
   "execution_count": null,
   "id": "f43ea350-3761-403d-8925-7ade1fa9bb19",
   "metadata": {},
   "outputs": [],
   "source": [
    "cb_ya_so <- readRDS('../../04_scRNA_Comparisons/Cord_blood/cb_ya_so.rds')"
   ]
  },
  {
   "cell_type": "code",
   "execution_count": null,
   "id": "6dbd9b03-8e0d-47de-b11c-7841d9b573db",
   "metadata": {},
   "outputs": [],
   "source": [
    "table(cb_ya_so$orig.ident)\n",
    "cb_ya_so <- SetIdent(cb_ya_so, value = 'orig.ident')\n",
    "cb_only_so <- subset(cb_ya_so, idents = c('/home/jupyter/published_datasets/cord_blood_young_adult/GSM4750306_F016/',\n",
    "                                          '/home/jupyter/published_datasets/cord_blood_young_adult/GSM4750307_F017/',\n",
    "                                          '/home/jupyter/published_datasets/cord_blood_young_adult/GSM4750308_F024/'))"
   ]
  },
  {
   "cell_type": "code",
   "execution_count": null,
   "id": "9bd09c7b-e6f8-4c98-9f41-9e376acf190d",
   "metadata": {},
   "outputs": [],
   "source": [
    "table(cb_only_so$predicted.celltype.l1)"
   ]
  },
  {
   "cell_type": "code",
   "execution_count": null,
   "id": "ea3731e9-f5bf-44fe-b588-86572c016159",
   "metadata": {},
   "outputs": [],
   "source": [
    "cb_only_so <- SetIdent(cb_only_so, value = 'predicted.celltype.l1')\n",
    "cb_only_t <- subset(cb_only_so, idents = c('CD4 T', 'CD8 T', 'other T'))"
   ]
  },
  {
   "cell_type": "code",
   "execution_count": null,
   "id": "25aa9ea0-d7d7-41c2-a729-9b2a6ba7f2a5",
   "metadata": {
    "scrolled": true,
    "tags": []
   },
   "outputs": [],
   "source": [
    "DefaultAssay(cb_only_t) <- 'RNA'\n",
    "cb_only_t <- NormalizeData(cb_only_t) %>% FindVariableFeatures() %>% ScaleData() %>% RunPCA()"
   ]
  },
  {
   "cell_type": "code",
   "execution_count": null,
   "id": "04ab3a82-579b-4765-8bd4-7df7e273a10d",
   "metadata": {},
   "outputs": [],
   "source": [
    "options(repr.plot.width = 5, repr.plot.height = 5)\n",
    "ElbowPlot(cb_only_t, ndims = 50)"
   ]
  },
  {
   "cell_type": "code",
   "execution_count": null,
   "id": "481a6da8-b7fa-4f7e-86b7-b92ffd6f799b",
   "metadata": {},
   "outputs": [],
   "source": [
    "cb_only_t <- RunHarmony(cb_only_t, group.by.vars = 'orig.ident')"
   ]
  },
  {
   "cell_type": "code",
   "execution_count": null,
   "id": "4037f880-ab0b-463b-bd69-9abde8039462",
   "metadata": {
    "scrolled": true,
    "tags": []
   },
   "outputs": [],
   "source": [
    "cb_only_t <- RunUMAP(cb_only_t, dims = 1:20, reduction = 'harmony') %>% FindNeighbors(dims = 1:20, reduction = 'harmony') %>% FindClusters(resolution = 0.5)"
   ]
  },
  {
   "cell_type": "code",
   "execution_count": null,
   "id": "0f0cfb49-9189-4591-9333-3ffb773271d2",
   "metadata": {},
   "outputs": [],
   "source": [
    "options(repr.plot.width = 10, repr.plot.height = 10)\n",
    "DimPlot(cb_only_t, label = TRUE)\n",
    "DimPlot(cb_only_t, group.by = 'predicted.celltype.l2', label = TRUE, repel = TRUE)\n",
    "DimPlot(cb_only_t, group.by = 'orig.ident')"
   ]
  },
  {
   "cell_type": "code",
   "execution_count": null,
   "id": "ebb5c5d9-50ea-4913-ba04-83c05132684f",
   "metadata": {},
   "outputs": [],
   "source": [
    "options(repr.plot.width = 20, repr.plot.height = 10)\n",
    "FeaturePlot(cb_only_t, features = c('LEF1','KLRC3','CD8A'), order = TRUE , ncol = 3)"
   ]
  },
  {
   "cell_type": "code",
   "execution_count": null,
   "id": "5f6b0194-3ff3-43f2-8bda-62a42f2d17d0",
   "metadata": {},
   "outputs": [],
   "source": [
    "options(repr.plot.width = 20, repr.plot.height = 10)\n",
    "FeaturePlot(cb_only_t, features = c('TRDC','TRGC1','TRGC2'), order = TRUE , ncol = 3)"
   ]
  },
  {
   "cell_type": "code",
   "execution_count": null,
   "id": "49881f36-1fe6-40d0-b2b2-d9bb0b80e3df",
   "metadata": {},
   "outputs": [],
   "source": [
    "cb_only_t <- SetIdent(cb_only_t, value = 'RNA_snn_res.0.5')\n",
    "cb_only_t <- FindSubCluster(object = cb_only_t, cluster = 5, graph.name = 'RNA_snn', resolution = 0.2)\n",
    "Idents(cb_only_t) <- \"sub.cluster\""
   ]
  },
  {
   "cell_type": "code",
   "execution_count": null,
   "id": "7fe87589-9539-4a1a-b4b3-e24d399189f6",
   "metadata": {},
   "outputs": [],
   "source": [
    "options(repr.plot.width = 10, repr.plot.height = 10)\n",
    "DimPlot(cb_only_t, label = TRUE)"
   ]
  },
  {
   "cell_type": "code",
   "execution_count": null,
   "id": "4f50870e-16fe-4e98-8ef5-720cf4c8decd",
   "metadata": {},
   "outputs": [],
   "source": [
    "options(repr.plot.width = 20, repr.plot.height = 10)\n",
    "VlnPlot(cb_only_t, features = c('LEF1','KLRC3','CD8A','TRDC','TRGC1','TRGC2'), ncol = 3)"
   ]
  },
  {
   "cell_type": "code",
   "execution_count": null,
   "id": "3cfbb445-b98c-4ef4-96b2-5ee117e88e83",
   "metadata": {},
   "outputs": [],
   "source": [
    "options(repr.plot.width = 10, repr.plot.height = 10)\n",
    "VlnPlot(cb_only_t, features = c('DDX3X','UTY','DDX3Y'), ncol = 3, group.by = 'orig.ident')"
   ]
  },
  {
   "cell_type": "code",
   "execution_count": null,
   "id": "09b2b6ea-d3d6-4367-bde9-abcdc64df749",
   "metadata": {},
   "outputs": [],
   "source": [
    "# 'KLRC2','ZNF683','IKZF2',\n",
    "# 'TRGC1','TRGC2','TRDC',\n",
    "# 'IL21R','CD8A','DUSP2"
   ]
  },
  {
   "cell_type": "code",
   "execution_count": null,
   "id": "6fa93896-1e35-4a02-a485-b76c10267b81",
   "metadata": {},
   "outputs": [],
   "source": [
    "p[[4]]"
   ]
  },
  {
   "cell_type": "code",
   "execution_count": null,
   "id": "5412a394-818d-4437-acdc-c430d04d7645",
   "metadata": {},
   "outputs": [],
   "source": [
    "cb_only_t <- SetIdent(cb_only_t, value = 'sub.cluster')\n",
    "mnp2_cb <- subset(cb_only_t, idents = '5_0')"
   ]
  },
  {
   "cell_type": "code",
   "execution_count": null,
   "id": "3941d5b2-ff40-452f-90ee-893ef594ebe3",
   "metadata": {},
   "outputs": [],
   "source": [
    "mnp2_counts_cb <- dplyr::count(mnp2_cb@meta.data, orig.ident)\n",
    "# head(mnp2_counts_cb)\n",
    "total_t_counts_cb <- dplyr::count(cb_only_t@meta.data, orig.ident)\n",
    "# head(total_t_counts_cb)\n",
    "joined_counts_cb <- left_join(mnp2_counts_cb, total_t_counts_cb, by = 'orig.ident')\n",
    "# head(joined_counts_cb)\n",
    "joined_counts_cb$perc <- joined_counts_cb$n.x / joined_counts_cb$n.y\n",
    "head(joined_counts_cb)"
   ]
  },
  {
   "cell_type": "code",
   "execution_count": null,
   "id": "fd021e13-e0d7-4b0c-8f92-3272adaa48d0",
   "metadata": {},
   "outputs": [],
   "source": [
    "write.csv(joined_counts_cb, file = 'mnp2_cb_perc.csv')"
   ]
  },
  {
   "cell_type": "code",
   "execution_count": null,
   "id": "99e3d577-5921-4a8f-9444-f11e6b8b9057",
   "metadata": {},
   "outputs": [],
   "source": [
    "t_cells <- SetIdent(t_cells, value = 'sub.cluster')\n",
    "mnp2_cluster <- subset(t_cells, idents = '12_1')"
   ]
  },
  {
   "cell_type": "code",
   "execution_count": null,
   "id": "4f150f58-5cf3-46cc-b1e0-1e59f54d5840",
   "metadata": {},
   "outputs": [],
   "source": [
    "mnp2_counts <- dplyr::count(mnp2_cluster@meta.data, pbmc_sample_id, age, sex)\n",
    "head(mnp2_counts)"
   ]
  },
  {
   "cell_type": "code",
   "execution_count": null,
   "id": "1ce26c70-7e3a-4a5a-addc-4a93dfd94078",
   "metadata": {},
   "outputs": [],
   "source": [
    "total_t_counts <- dplyr::count(t_cells@meta.data, pbmc_sample_id)\n",
    "head(total_t_counts)"
   ]
  },
  {
   "cell_type": "code",
   "execution_count": null,
   "id": "facb1ef4-7420-411f-8286-c55fd81c4309",
   "metadata": {},
   "outputs": [],
   "source": [
    "joined_counts <- left_join(mnp2_counts, total_t_counts, by = 'pbmc_sample_id')\n",
    "head(joined_counts)"
   ]
  },
  {
   "cell_type": "code",
   "execution_count": null,
   "id": "2a3f98ad-d833-427e-83a9-de96d8058e29",
   "metadata": {},
   "outputs": [],
   "source": [
    "joined_counts$perc <- joined_counts$n.x / joined_counts$n.y\n",
    "head(joined_counts)"
   ]
  },
  {
   "cell_type": "code",
   "execution_count": null,
   "id": "26629c19-04ef-4281-b876-de23105cd86c",
   "metadata": {},
   "outputs": [],
   "source": [
    "write.csv(joined_counts, file = 'mnp2_scrna_seq_perc.csv')"
   ]
  },
  {
   "cell_type": "code",
   "execution_count": null,
   "id": "1ef75217-baf1-4d88-901f-2ff3def72a81",
   "metadata": {},
   "outputs": [],
   "source": [
    "joined_counts <- read.csv(file = 'mnp2_scrna_seq_perc_full.csv')"
   ]
  },
  {
   "cell_type": "code",
   "execution_count": null,
   "id": "55922270-2e19-4798-8ba7-620e1e6ab508",
   "metadata": {},
   "outputs": [],
   "source": [
    "head(joined_counts)"
   ]
  },
  {
   "cell_type": "code",
   "execution_count": null,
   "id": "c2ab6552-adf2-4a9b-b324-5a37b153e55c",
   "metadata": {},
   "outputs": [],
   "source": [
    "median(subset(joined_counts, age == 'Pediatric')$perc) *100\n",
    "median(subset(joined_counts, age == 'Older Adult')$perc) *100"
   ]
  },
  {
   "cell_type": "code",
   "execution_count": null,
   "id": "2a505e2a-0712-4560-a639-e3f22e0b8061",
   "metadata": {},
   "outputs": [],
   "source": [
    "mean(subset(joined_counts, age == 'Pediatric')$perc) * 100\n",
    "mean(subset(joined_counts, age == 'Older Adult')$perc) * 100"
   ]
  },
  {
   "cell_type": "markdown",
   "id": "59ba7d33-9c10-4a2d-8541-c96a1ef8c8c7",
   "metadata": {},
   "source": [
    "## Fig 5J"
   ]
  },
  {
   "cell_type": "code",
   "execution_count": null,
   "id": "5b420b0e-ed3c-4bd6-8ac2-757719fd545c",
   "metadata": {},
   "outputs": [],
   "source": [
    "options(repr.plot.width = 14, repr.plot.height = 8)\n",
    "ggplot(joined_counts, aes(x=Actual.Age, y=perc)) + \n",
    "    geom_point(size = 3, aes(color=age, shape=sex)) + \n",
    "    geom_smooth(formula=y ~ x^2,alpha=.15, se = TRUE, color='darkgrey') +\n",
    "    scale_color_manual(values=c('#fa9fb5','#d95f02','#1b9e77','#9e9ac8')) + \n",
    "    xlab('Age') + ylab('% MNP-2 of Total T Cells') +\n",
    "    theme_bw() + \n",
    "    theme(axis.text.x = element_text(size = 15),\n",
    "          axis.text.y = element_text(size = 15),\n",
    "          axis.title.y = element_text(size = 20),\n",
    "          axis.title.x = element_text(size = 20),\n",
    "          # legend.key.size = unit(2, 'cm'), #change legend key size\n",
    "          # legend.key.height = unit(1, 'cm'), #change legend key height\n",
    "          # legend.key.width = unit(1, 'cm'), #change legend key width\n",
    "          legend.title = element_text(size=20), #change legend title font size\n",
    "          legend.text = element_text(size=15))"
   ]
  },
  {
   "cell_type": "code",
   "execution_count": null,
   "id": "efc249ed-42a0-4819-974b-1de784c38778",
   "metadata": {},
   "outputs": [],
   "source": [
    "mnp2_counts <- dplyr::count(mnp2_cluster@meta.data, pbmc_sample_id, age, cmv)\n",
    "head(mnp2_counts)"
   ]
  },
  {
   "cell_type": "code",
   "execution_count": null,
   "id": "b33a6a28-9b8b-4f35-bc34-54aa9b7a662f",
   "metadata": {},
   "outputs": [],
   "source": [
    "total_t_counts <- dplyr::count(t_cells@meta.data, pbmc_sample_id)\n",
    "head(total_t_counts)"
   ]
  },
  {
   "cell_type": "code",
   "execution_count": null,
   "id": "ee4a557d-94bd-4195-b521-9d00b5f97263",
   "metadata": {},
   "outputs": [],
   "source": [
    "joined_counts <- left_join(mnp2_counts, total_t_counts, by = 'pbmc_sample_id')\n",
    "head(joined_counts)"
   ]
  },
  {
   "cell_type": "code",
   "execution_count": null,
   "id": "e76a4328-8239-40bc-ab9e-6bd083b89c68",
   "metadata": {},
   "outputs": [],
   "source": [
    "joined_counts$perc <- joined_counts$n.x / joined_counts$n.y\n",
    "head(joined_counts)"
   ]
  },
  {
   "cell_type": "code",
   "execution_count": null,
   "id": "7d41ee38-47e7-4d31-b14e-a97cea12f154",
   "metadata": {},
   "outputs": [],
   "source": [
    "write.csv(joined_counts, file = 'mnp2_scrna_seq_perc.csv')"
   ]
  },
  {
   "cell_type": "code",
   "execution_count": null,
   "id": "a8c36ab9-840c-4b9e-9ae4-3d731784819e",
   "metadata": {},
   "outputs": [],
   "source": [
    "# Open a pdf file\n",
    "pdf(\"plots/mnp2_perc_age_plot_wide.pdf\", width = 14, height = 8) \n",
    "# 2. Create a plot\n",
    "ggplot(joined_counts, aes(x=Actual.Age, y=perc)) + \n",
    "    geom_point(size = 3, aes(color=age, shape=sex)) + \n",
    "    geom_smooth(formula=y ~ x^2,alpha=.15, se = TRUE, color='darkgrey') +\n",
    "    scale_color_manual(values=c('#fa9fb5','#d95f02','#1b9e77','#9e9ac8')) + \n",
    "    xlab('Age') + ylab('% MNP-2 of Total T Cells') +\n",
    "    theme_bw() + \n",
    "    theme(axis.text.x = element_text(size = 15),\n",
    "          axis.text.y = element_text(size = 15),\n",
    "          axis.title.y = element_text(size = 20),\n",
    "          axis.title.x = element_text(size = 20),\n",
    "          # legend.key.size = unit(2, 'cm'), #change legend key size\n",
    "          # legend.key.height = unit(1, 'cm'), #change legend key height\n",
    "          # legend.key.width = unit(1, 'cm'), #change legend key width\n",
    "          legend.title = element_text(size=20), #change legend title font size\n",
    "          legend.text = element_text(size=15))\n",
    "# Close the pdf file\n",
    "dev.off() "
   ]
  },
  {
   "cell_type": "code",
   "execution_count": null,
   "id": "b781fab1-c6cc-4a8d-8e0c-42bd97ad3305",
   "metadata": {},
   "outputs": [],
   "source": [
    "options(repr.plot.width = 8, repr.plot.height = 8)\n",
    "ggplot(joined_counts, aes(x=age, y=perc, color=sex)) + \n",
    "    geom_point() + \n",
    "    geom_smooth(alpha=.15, aes(fill=sex))"
   ]
  },
  {
   "cell_type": "code",
   "execution_count": null,
   "id": "2c05abbe-7b6a-4fb8-9dea-cf75c3640e7a",
   "metadata": {},
   "outputs": [],
   "source": [
    "options(repr.plot.width = 8, repr.plot.height = 8)\n",
    "ggplot(joined_counts, aes(x=age, y=perc, color=sex)) + \n",
    "    geom_point() + \n",
    "    geom_smooth(method='lm',alpha=.15, aes(fill=sex))"
   ]
  },
  {
   "cell_type": "code",
   "execution_count": null,
   "id": "9a4714de-c84c-49b4-bd61-888dc66c7579",
   "metadata": {},
   "outputs": [],
   "source": [
    "options(repr.plot.width = 8, repr.plot.height = 8)\n",
    "ggplot(joined_counts, aes(x=age, y=perc, color=sex)) + \n",
    "    geom_point(size = 3) + \n",
    "    geom_smooth(formula=y ~ x^2,alpha=.15, aes(fill=sex), se = FALSE) + \n",
    "    scale_color_manual(values=c('#08519c','#9ecae1')) + \n",
    "    xlab('Age') + ylab('Fraction MNP-2 of Total T') +\n",
    "    theme_bw() + \n",
    "    theme(axis.text.x = element_text(size = 15),\n",
    "          axis.text.y = element_text(size = 15),\n",
    "          axis.title.y = element_text(size = 20),\n",
    "          axis.title.x = element_text(size = 20),\n",
    "          # legend.key.size = unit(2, 'cm'), #change legend key size\n",
    "          # legend.key.height = unit(1, 'cm'), #change legend key height\n",
    "          # legend.key.width = unit(1, 'cm'), #change legend key width\n",
    "          legend.title = element_text(size=20), #change legend title font size\n",
    "          legend.text = element_text(size=15))"
   ]
  },
  {
   "cell_type": "code",
   "execution_count": null,
   "id": "7ee6ff9c-4700-4e68-b24e-57979975da8a",
   "metadata": {},
   "outputs": [],
   "source": [
    "# Open a pdf file\n",
    "pdf(\"plots/mnp2_pipeline_age_sex_dotplot.pdf\", width = 8, height = 8) \n",
    "# 2. Create a plot\n",
    "ggplot(joined_counts, aes(x=age, y=perc, color=sex)) + \n",
    "    geom_point(size = 3) + \n",
    "    geom_smooth(formula=y ~ x^2,alpha=.15, aes(fill=sex), se = FALSE) + \n",
    "    scale_color_manual(values=c('#08519c','#9ecae1')) + \n",
    "    xlab('Age') + ylab('Fraction MNP-2 of Total T') +\n",
    "    theme_bw() + \n",
    "    theme(axis.text.x = element_text(size = 15),\n",
    "          axis.text.y = element_text(size = 15),\n",
    "          axis.title.y = element_text(size = 20),\n",
    "          axis.title.x = element_text(size = 20),\n",
    "          # legend.key.size = unit(2, 'cm'), #change legend key size\n",
    "          # legend.key.height = unit(1, 'cm'), #change legend key height\n",
    "          # legend.key.width = unit(1, 'cm'), #change legend key width\n",
    "          legend.title = element_text(size=20), #change legend title font size\n",
    "          legend.text = element_text(size=15))\n",
    "# Close the pdf file\n",
    "dev.off() "
   ]
  },
  {
   "cell_type": "code",
   "execution_count": null,
   "id": "a1ad2dfd-6973-4da0-94d7-1f93951c4756",
   "metadata": {},
   "outputs": [],
   "source": [
    "options(repr.plot.width = 8, repr.plot.height = 8)\n",
    "ggplot(joined_counts, aes(x=age, y=perc)) + \n",
    "    geom_boxplot() + \n",
    "    scale_y_log10() + \n",
    "    geom_dotplot(binaxis='y', stackdir='center',\n",
    "                 position=position_dodge(), binwidth = 1/15)"
   ]
  },
  {
   "cell_type": "code",
   "execution_count": null,
   "id": "2c6ebc98-4b59-429b-b6d3-f0978a14f63c",
   "metadata": {},
   "outputs": [],
   "source": [
    "options(repr.plot.width = 8, repr.plot.height = 8)\n",
    "joined_counts %>% \n",
    "    mutate(age = factor(age, levels = c('Pediatric','Young Adult','Older Adult'))) %>%\n",
    "    ggplot() + \n",
    "        geom_boxplot(aes(x=age, y=perc, fill=age)) +\n",
    "        scale_fill_manual(values=c('#1b9e77','#de77ae','#d95f02')) +\n",
    "        # scale_y_log10(breaks = ) + \n",
    "        scale_y_continuous(trans='log10',\n",
    "                           breaks = c(0.0001,0.001,0.01,0.1),\n",
    "                           labels = c(0.0001,0.001,0.01,0.1),\n",
    "                           limits = c(0.0001,0.1)) + \n",
    "        geom_jitter(aes(x=age, y=perc, shape=sex, color=sex), border='black', size=5, width=0.2) +\n",
    "        # geom_jitter(colour='black') +\n",
    "        scale_color_manual(values=c('#3288bd','#d53e4f')) + \n",
    "        theme(axis.text.x = element_text(size = 20),\n",
    "              axis.text.y = element_text(size = 15),\n",
    "              axis.title.x = element_blank(),\n",
    "              axis.title.y = element_blank())"
   ]
  },
  {
   "cell_type": "code",
   "execution_count": null,
   "id": "a83914d7-1463-40f2-88f4-df50abdf2c9a",
   "metadata": {},
   "outputs": [],
   "source": [
    "options(repr.plot.width = 10, repr.plot.height = 8)\n",
    "joined_counts %>% \n",
    "    mutate(age = factor(age, levels = c('Pediatric','Young Adult','Older Adult'))) %>%\n",
    "    ggplot() + \n",
    "        geom_boxplot(aes(x=age, y=perc, fill=age)) +\n",
    "        scale_fill_manual(values=c('#1b9e77','#de77ae','#d95f02')) +\n",
    "        # scale_y_log10(breaks = ) + \n",
    "        scale_y_continuous(trans='log10',\n",
    "                           breaks = c(0.0001,0.001,0.01,0.1),\n",
    "                           labels = c(0.0001,0.001,0.01,0.1),\n",
    "                           limits = c(0.0001,0.1)) + \n",
    "        geom_jitter(aes(x=age, y=perc, shape=sex), color='black', size=5, width=0.2) +\n",
    "        # geom_jitter(colour='black') +\n",
    "        # scale_color_manual(values=c('#3288bd','#d53e4f')) + \n",
    "        theme(axis.text.x = element_text(size = 20),\n",
    "              axis.text.y = element_text(size = 15),\n",
    "              axis.title.x = element_blank(),\n",
    "              axis.title.y = element_blank(),\n",
    "              panel.grid.major = element_blank(), \n",
    "              panel.grid.minor = element_blank(),\n",
    "              panel.background = element_blank(),\n",
    "              axis.line = element_line(colour = \"black\"))"
   ]
  },
  {
   "cell_type": "code",
   "execution_count": null,
   "id": "5075b6c0-dde9-41f1-b2b4-e71501bfc815",
   "metadata": {},
   "outputs": [],
   "source": [
    "# Open a pdf file\n",
    "pdf(\"plots/mnp2_pipeline_boxplot.pdf\", width = 10, height = 8) \n",
    "# 2. Create a plot\n",
    "joined_counts %>% \n",
    "    mutate(age = factor(age, levels = c('Pediatric','Young Adult','Older Adult'))) %>%\n",
    "    ggplot() + \n",
    "        geom_boxplot(aes(x=age, y=perc, fill=age)) +\n",
    "        scale_fill_manual(values=c('#1b9e77','#de77ae','#d95f02')) +\n",
    "        # scale_y_log10(breaks = ) + \n",
    "        scale_y_continuous(trans='log10',\n",
    "                           breaks = c(0.0001,0.001,0.01,0.1),\n",
    "                           labels = c(0.0001,0.001,0.01,0.1),\n",
    "                           limits = c(0.0001,0.1)) + \n",
    "        geom_jitter(aes(x=age, y=perc, shape=sex), color='black', size=5, width=0.2) +\n",
    "        # geom_jitter(colour='black') +\n",
    "        # scale_color_manual(values=c('#3288bd','#d53e4f')) + \n",
    "        theme(axis.text.x = element_text(size = 20),\n",
    "              axis.text.y = element_text(size = 15),\n",
    "              axis.title.x = element_blank(),\n",
    "              axis.title.y = element_blank(),\n",
    "              panel.grid.major = element_blank(), \n",
    "              panel.grid.minor = element_blank(),\n",
    "              panel.background = element_blank(),\n",
    "              axis.line = element_line(colour = \"black\"))\n",
    "# Close the pdf file\n",
    "dev.off() "
   ]
  },
  {
   "cell_type": "code",
   "execution_count": null,
   "id": "d468379a-cc01-43e1-973b-6caf5c66f2c3",
   "metadata": {},
   "outputs": [],
   "source": [
    "t_cells <- SetIdent(t_cells, value = 'sub.cluster')\n",
    "mnp2_cluster <- subset(t_cells, idents = c('12_1','12_2'))"
   ]
  },
  {
   "cell_type": "code",
   "execution_count": null,
   "id": "e6111a70-5b45-4729-a7b7-7c5da1dcbb15",
   "metadata": {},
   "outputs": [],
   "source": [
    "mnp2_counts <- dplyr::count(mnp2_cluster@meta.data, pbmc_sample_id, age, sex)\n",
    "head(mnp2_counts)"
   ]
  },
  {
   "cell_type": "code",
   "execution_count": null,
   "id": "6fb7ab56-5a99-4a47-bd6a-6a9d3bce9957",
   "metadata": {},
   "outputs": [],
   "source": [
    "total_t_counts <- dplyr::count(t_cells@meta.data, pbmc_sample_id)\n",
    "head(total_t_counts)"
   ]
  },
  {
   "cell_type": "code",
   "execution_count": null,
   "id": "58d66e1a-bb78-42a4-ab21-7eaa9d3629a6",
   "metadata": {},
   "outputs": [],
   "source": [
    "joined_counts <- left_join(mnp2_counts, total_t_counts, by = 'pbmc_sample_id')\n",
    "head(joined_counts)"
   ]
  },
  {
   "cell_type": "code",
   "execution_count": null,
   "id": "46690c16-c032-47de-91fa-bd7b28de05b1",
   "metadata": {},
   "outputs": [],
   "source": [
    "joined_counts$perc <- joined_counts$n.x / joined_counts$n.y\n",
    "head(joined_counts)"
   ]
  },
  {
   "cell_type": "code",
   "execution_count": null,
   "id": "49462d2e-d2f3-4680-8d37-c30c265d06de",
   "metadata": {},
   "outputs": [],
   "source": [
    "options(repr.plot.width = 8, repr.plot.height = 8)\n",
    "joined_counts %>% \n",
    "    mutate(age = factor(age, levels = c('Pediatric','Young Adult','Older Adult'))) %>%\n",
    "    ggplot() + \n",
    "        geom_boxplot(aes(x=age, y=perc, fill=age)) +\n",
    "        scale_fill_manual(values=c('#1b9e77','#de77ae','#d95f02')) +\n",
    "        # scale_y_log10(breaks = ) + \n",
    "        scale_y_continuous(trans='log10',\n",
    "                           breaks = c(0.0001,0.001,0.01,0.1),\n",
    "                           labels = c(0.0001,0.001,0.01,0.1),\n",
    "                           limits = c(0.0001,0.1)) + \n",
    "        geom_jitter(aes(x=age, y=perc, shape=sex), color='black', size=5, width=0.2) +\n",
    "        # geom_jitter(colour='black') +\n",
    "        # scale_color_manual(values=c('#3288bd','#d53e4f')) + \n",
    "        theme(axis.text.x = element_text(size = 20),\n",
    "              axis.text.y = element_text(size = 15),\n",
    "              axis.title.x = element_blank(),\n",
    "              axis.title.y = element_blank())"
   ]
  },
  {
   "cell_type": "code",
   "execution_count": null,
   "id": "71f9f3d0-cdb6-4298-b38e-fdbf8ba0e692",
   "metadata": {},
   "outputs": [],
   "source": [
    "t_cells <- SetIdent(t_cells, value = 'sub.cluster')\n",
    "mnp2_cluster <- subset(t_cells, idents = '12_1')\n",
    "extra_cluster <- subset(t_cells, idents = '12_2')"
   ]
  },
  {
   "cell_type": "code",
   "execution_count": null,
   "id": "0b599b49-9337-42a2-8e98-41b265bacc8f",
   "metadata": {},
   "outputs": [],
   "source": [
    "table(mnp2_cluster$age)\n",
    "table(extra_cluster$age)"
   ]
  },
  {
   "cell_type": "code",
   "execution_count": null,
   "id": "d239b87c-8924-4bca-a367-ce6bc031fcd3",
   "metadata": {},
   "outputs": [],
   "source": []
  }
 ],
 "metadata": {
  "kernelspec": {
   "display_name": "R 4",
   "language": "R",
   "name": "ir"
  },
  "language_info": {
   "codemirror_mode": "r",
   "file_extension": ".r",
   "mimetype": "text/x-r-source",
   "name": "R",
   "pygments_lexer": "r",
   "version": "4.1.2"
  }
 },
 "nbformat": 4,
 "nbformat_minor": 5
}
