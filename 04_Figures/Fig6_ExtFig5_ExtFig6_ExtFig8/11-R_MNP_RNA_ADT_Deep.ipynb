{
 "cells": [
  {
   "cell_type": "code",
   "execution_count": null,
   "id": "c3c26662-8759-45de-b07a-3dd4c7b1d394",
   "metadata": {},
   "outputs": [],
   "source": [
    "quiet_library <- function(...) {\n",
    "    suppressPackageStartupMessages(library(...))\n",
    "}\n",
    "quiet_library(Seurat)\n",
    "quiet_library(ggplot2)\n",
    "quiet_library(Matrix)\n",
    "quiet_library(H5weaver)\n",
    "quiet_library(dplyr)\n",
    "quiet_library(viridis)\n",
    "quiet_library(harmony)\n",
    "quiet_library(Nebulosa)\n",
    "# quiet_library(ArchR)\n",
    "quiet_library(cowplot)"
   ]
  },
  {
   "cell_type": "code",
   "execution_count": null,
   "id": "e7e8484a-c423-492f-b701-dbb3ab26d0f0",
   "metadata": {},
   "outputs": [],
   "source": [
    "mnp <- readRDS(file = 'mnp_deep_analysis.rds')"
   ]
  },
  {
   "cell_type": "code",
   "execution_count": null,
   "id": "daaf9a80-a2f3-4c40-81e7-190392fce36f",
   "metadata": {},
   "outputs": [],
   "source": [
    "mnp <- FindClusters(mnp, graph.name = \"wsnn\", algorithm = 3, resolution = 0.8, verbose = TRUE)"
   ]
  },
  {
   "cell_type": "code",
   "execution_count": null,
   "id": "a4b6c5ee-1ff2-4576-ace8-1b3fa457af92",
   "metadata": {},
   "outputs": [],
   "source": [
    "options(repr.plot.width = 18, repr.plot.height = 8)\n",
    "p1 <- DimPlot(mnp, reduction = 'wnn.3.umap', group.by = 'wsnn_res.0.5', label = TRUE)\n",
    "p2 <- DimPlot(mnp, reduction = 'wnn.3.umap', group.by = 'pediatric_senior', shuffle = TRUE)\n",
    "p1 + p2"
   ]
  },
  {
   "cell_type": "code",
   "execution_count": null,
   "id": "500870c9-fd92-4fd1-8afc-416a907a2cd0",
   "metadata": {},
   "outputs": [],
   "source": [
    "options(repr.plot.width = 18, repr.plot.height = 8)\n",
    "p1 <- DimPlot(mnp, reduction = 'wnn.3.umap', group.by = 'wsnn_res.0.5', label = TRUE)\n",
    "p2 <- DimPlot(mnp, reduction = 'wnn.3.umap', group.by = 'CMV', shuffle = TRUE)\n",
    "p1 + p2"
   ]
  },
  {
   "cell_type": "code",
   "execution_count": null,
   "id": "0f855f4f-434e-41c5-a06f-be0491190284",
   "metadata": {},
   "outputs": [],
   "source": [
    "options(repr.plot.width = 18, repr.plot.height = 8)\n",
    "p1 <- DimPlot(mnp, reduction = 'wnn.3.umap', group.by = 'wsnn_res.0.8', label = TRUE, label.size = 10)\n",
    "p2 <- DimPlot(mnp, reduction = 'wnn.3.umap', group.by = 'pediatric_senior', shuffle = TRUE)\n",
    "p1 + p2"
   ]
  },
  {
   "cell_type": "code",
   "execution_count": null,
   "id": "361b2eae-445f-4354-b111-083cd96bba84",
   "metadata": {},
   "outputs": [],
   "source": [
    "mnp <- SetIdent(mnp, value = 'wsnn_res.0.8')\n",
    "mnp <- FindSubCluster(object = mnp, cluster = 3, graph.name = 'wsnn', resolution = 0.5)\n",
    "Idents(mnp) <- \"sub.cluster\""
   ]
  },
  {
   "cell_type": "code",
   "execution_count": null,
   "id": "5733ab35-8f06-4bae-861e-536db839ae19",
   "metadata": {},
   "outputs": [],
   "source": [
    "options(repr.plot.width = 18, repr.plot.height = 8)\n",
    "p1 <- DimPlot(mnp, reduction = 'wnn.3.umap', group.by = 'sub.cluster', label = TRUE, label.size = 10)\n",
    "p2 <- DimPlot(mnp, reduction = 'wnn.3.umap', group.by = 'CMV', shuffle = TRUE)\n",
    "p1 + p2"
   ]
  },
  {
   "cell_type": "code",
   "execution_count": null,
   "id": "303588e7-12b0-464a-a2fc-f5c45fd6d363",
   "metadata": {},
   "outputs": [],
   "source": [
    "options(repr.plot.width = 8, repr.plot.height = 8)\n",
    "DimPlot(mnp, reduction = 'wnn.3.umap', group.by = 'sub.cluster', label = TRUE, label.size = 10) & NoLegend()"
   ]
  },
  {
   "cell_type": "markdown",
   "id": "93ff6d0a-d785-455b-bea9-0b01448be8c9",
   "metadata": {},
   "source": [
    "# Fig6H"
   ]
  },
  {
   "cell_type": "code",
   "execution_count": null,
   "id": "a75c3d46-b63f-4a43-9c9c-bdc8521ffcc0",
   "metadata": {},
   "outputs": [],
   "source": [
    "mnp <- SetIdent(mnp, value = 'sub.cluster')\n",
    "mnp <- RenameIdents(mnp,\n",
    "                    '0' = '1',\n",
    "                    '1' = '2',\n",
    "                    '2' = '3',\n",
    "                    '3_0' = '4',\n",
    "                    '3_1' = '5',\n",
    "                    '4' = '6',\n",
    "                    '5' = '7')\n",
    "mnp$sub.cluster.clean <- Idents(mnp)"
   ]
  },
  {
   "cell_type": "code",
   "execution_count": null,
   "id": "33c0eae3-8707-49ff-912d-695dddb45ee1",
   "metadata": {},
   "outputs": [],
   "source": [
    "options(repr.plot.width = 8, repr.plot.height = 8)\n",
    "DimPlot(mnp, reduction = 'wnn.3.umap', group.by = 'sub.cluster.clean', label = TRUE, label.size = 10) & NoLegend()"
   ]
  },
  {
   "cell_type": "code",
   "execution_count": null,
   "id": "bfe667a8-633a-4c24-85da-448f872d17bc",
   "metadata": {},
   "outputs": [],
   "source": [
    "# Open a pdf file\n",
    "pdf(\"plots/mnp2_subcluster_umap.pdf\", width = 8, height = 8) \n",
    "# 2. Create a plot\n",
    "DimPlot(mnp, reduction = 'wnn.3.umap', group.by = 'sub.cluster.clean', label = FALSE) & NoLegend()\n",
    "# Close the pdf file\n",
    "dev.off() "
   ]
  },
  {
   "cell_type": "code",
   "execution_count": null,
   "id": "2ceab7e2-7920-4006-a95d-dceebe378b5a",
   "metadata": {},
   "outputs": [],
   "source": [
    "mnp_split <- SplitObject(mnp, split.by = 'pediatric_senior')"
   ]
  },
  {
   "cell_type": "code",
   "execution_count": null,
   "id": "5ae5286f-07e6-4881-ae1a-52163d051fe3",
   "metadata": {},
   "outputs": [],
   "source": [
    "options(repr.plot.width = 8, repr.plot.height = 8)\n",
    "DimPlot(mnp_split$Pediatric, reduction = 'wnn.3.umap', group.by = 'pediatric_senior', cols = c('#1b9e77')) & NoLegend()\n",
    "DimPlot(mnp_split$Senior, reduction = 'wnn.3.umap', group.by = 'pediatric_senior', cols = c('#d95f02')) & NoLegend()"
   ]
  },
  {
   "cell_type": "code",
   "execution_count": null,
   "id": "ee0de519-93d9-4623-92fb-b5f8bcc936b6",
   "metadata": {},
   "outputs": [],
   "source": [
    "# Open a pdf file\n",
    "pdf(\"plots/mnp2_subcluster_pediatric_umap.pdf\", width = 8, height = 8) \n",
    "# 2. Create a plot\n",
    "DimPlot(mnp_split$Pediatric, reduction = 'wnn.3.umap', group.by = 'pediatric_senior', cols = c('#1b9e77')) & NoLegend()\n",
    "# Close the pdf file\n",
    "dev.off() "
   ]
  },
  {
   "cell_type": "code",
   "execution_count": null,
   "id": "f74d18a5-efb7-4a38-978c-8ec0d1517532",
   "metadata": {},
   "outputs": [],
   "source": [
    "# Open a pdf file\n",
    "pdf(\"plots/mnp2_subcluster_senior_umap.pdf\", width = 8, height = 8) \n",
    "# 2. Create a plot\n",
    "DimPlot(mnp_split$Senior, reduction = 'wnn.3.umap', group.by = 'pediatric_senior', cols = c('#d95f02')) & NoLegend()\n",
    "# Close the pdf file\n",
    "dev.off() "
   ]
  },
  {
   "cell_type": "code",
   "execution_count": null,
   "id": "45d76cdd-7f96-41ea-b989-d15445f1bad7",
   "metadata": {},
   "outputs": [],
   "source": [
    "options(repr.plot.width = 18, repr.plot.height = 8)\n",
    "DimPlot(mnp, reduction = 'wnn.3.umap', group.by = 'pediatric_senior', label = FALSE, split.by = 'pediatric_senior', cols = c('#d95f02','#1b9e77'))"
   ]
  },
  {
   "cell_type": "code",
   "execution_count": null,
   "id": "58499a9c-0fa2-408e-9ba3-2b3cdf41f407",
   "metadata": {},
   "outputs": [],
   "source": [
    "mnp_split <- SplitObject(mnp, split.by = 'pediatric_senior')"
   ]
  },
  {
   "cell_type": "code",
   "execution_count": null,
   "id": "d7d7bae6-7fd9-424b-98a4-a86b8d97e630",
   "metadata": {},
   "outputs": [],
   "source": [
    "wnn_df <- as.data.frame(mnp@reductions$wnn.3.umap@cell.embeddings)\n",
    "wnn_df$age <- mnp$pediatric_senior\n",
    "wnn_df$cmv <- mnp$CMV\n",
    "head(wnn_df)"
   ]
  },
  {
   "cell_type": "code",
   "execution_count": null,
   "id": "5d43157d-eeef-4614-9e91-1bc0d3893bbf",
   "metadata": {},
   "outputs": [],
   "source": [
    "options(repr.plot.width = 10, repr.plot.height = 10)\n",
    "wnn_df %>%\n",
    "    mutate(age = factor(age, levels = c('Senior','Pediatric'))) %>%\n",
    "    ggplot(aes(x = wnn3umap_1, y = wnn3umap_2, color = age)) + #geom_point(shape = \".\") +\n",
    "    stat_density_2d(geom = 'polygon', aes(alpha = ..level.., fill = age), bins = 10) + xlim(-6,7) + ylim(-6,6) + scale_fill_manual(values = c('#d95f02','#1b9e77')) + scale_color_manual(values = c('#d95f02','#1b9e77')) +\n",
    "    theme(panel.grid.major = element_blank(), panel.grid.minor = element_blank(), panel.background = element_blank(),axis.line = element_line(colour = \"black\"),\n",
    "          legend.position = 'none') "
   ]
  },
  {
   "cell_type": "code",
   "execution_count": null,
   "id": "7aa3b829-7f9c-462a-ba1f-49efe29c5a4c",
   "metadata": {},
   "outputs": [],
   "source": [
    "options(repr.plot.width = 10, repr.plot.height = 10)\n",
    "ggplot(wnn_df, aes(x = wnn3umap_1, y = wnn3umap_2, color = cmv)) + #geom_point(shape = \".\") +\n",
    "stat_density_2d(geom = 'polygon', aes(alpha = ..level.., fill = cmv), bins = 10) + xlim(-6,7) + ylim(-6,6) + scale_fill_manual(values = c('#d8b365','#5ab4ac')) + scale_color_manual(values = c('#d8b365','#5ab4ac')) +\n",
    "theme(panel.grid.major = element_blank(), panel.grid.minor = element_blank(), panel.background = element_blank(),axis.line = element_line(colour = \"black\"),\n",
    "      legend.position = 'none')"
   ]
  },
  {
   "cell_type": "markdown",
   "id": "804a3fb6-cc0c-491e-adbc-d11b37ac2a3f",
   "metadata": {},
   "source": [
    "# Age Distribution"
   ]
  },
  {
   "cell_type": "code",
   "execution_count": null,
   "id": "10580831-ca3f-4ddc-95f9-225c2cc45986",
   "metadata": {},
   "outputs": [],
   "source": [
    "cluster_counts <- dplyr::count(mnp@meta.data, sub.cluster, pbmc_sample_id, pediatric_senior)"
   ]
  },
  {
   "cell_type": "code",
   "execution_count": null,
   "id": "bc17af21-394b-4f7f-9b9d-4171b57962b0",
   "metadata": {},
   "outputs": [],
   "source": [
    "sum_counts <- mnp@meta.data %>%\n",
    "                dplyr::count(pediatric_senior, pbmc_sample_id)"
   ]
  },
  {
   "cell_type": "code",
   "execution_count": null,
   "id": "818dd4f6-ea5b-445c-b08f-80a0448a725a",
   "metadata": {},
   "outputs": [],
   "source": [
    "joined_counts <- left_join(cluster_counts, sum_counts, by = 'pbmc_sample_id')\n",
    "joined_counts$perc <- joined_counts$n.x/joined_counts$n.y"
   ]
  },
  {
   "cell_type": "code",
   "execution_count": null,
   "id": "7e3de233-4009-4d7a-b5af-575261deb00c",
   "metadata": {},
   "outputs": [],
   "source": [
    "head(joined_counts)"
   ]
  },
  {
   "cell_type": "code",
   "execution_count": null,
   "id": "990da5ee-4c2b-406d-a51c-5eb66764f2dc",
   "metadata": {},
   "outputs": [],
   "source": [
    "options(repr.plot.width = 20, repr.plot.height = 10)\n",
    "ggplot(joined_counts, aes(x = sub.cluster, y = perc, fill = pediatric_senior.x)) + \n",
    "    geom_boxplot() + \n",
    "    scale_y_log10() + \n",
    "    geom_dotplot(binaxis='y', stackdir='center',\n",
    "                 position=position_dodge(), binwidth = 1/40) + theme_bw() +\n",
    "    theme(axis.text.x = element_text(angle = 90, hjust = 1, vjust = 0.5, size = 15),\n",
    "          axis.text.y = element_text(size = 15)) +\n",
    "    guides(fill = guide_legend(title = 'Pediatric / Senior')) +\n",
    "    xlab(\"Cluster\") + \n",
    "    ylab(\"Percent\")"
   ]
  },
  {
   "cell_type": "code",
   "execution_count": null,
   "id": "ca115bc6-8d0e-4023-b1c2-d53b8f4558b7",
   "metadata": {},
   "outputs": [],
   "source": [
    "options(repr.plot.width = 20, repr.plot.height = 10)\n",
    "ggplot(joined_counts, aes(x = sub.cluster, y = perc, fill = pediatric_senior.x)) + \n",
    "    geom_boxplot() + \n",
    "    geom_dotplot(binaxis='y', stackdir='center',\n",
    "                 position=position_dodge(), binwidth = 1/40) + theme_bw() +\n",
    "    theme(axis.text.x = element_text(angle = 90, hjust = 1, vjust = 0.5, size = 15),\n",
    "          axis.text.y = element_text(size = 15)) +\n",
    "    guides(fill = guide_legend(title = 'Pediatric / Senior')) +\n",
    "    xlab(\"Cluster\") + \n",
    "    ylab(\"Percent\")"
   ]
  },
  {
   "cell_type": "code",
   "execution_count": null,
   "id": "a1257a7f-6245-4fdb-8ad6-583de64752ef",
   "metadata": {},
   "outputs": [],
   "source": [
    "subset(joined_counts, sub.cluster == 5)"
   ]
  },
  {
   "cell_type": "code",
   "execution_count": null,
   "id": "4f76829a-bb47-4670-ad5a-58a3a0867481",
   "metadata": {},
   "outputs": [],
   "source": [
    "mnp <- SetIdent(mnp, value = 'sub.cluster')\n",
    "mnp_pure <- subset(mnp, idents = c('3_1','5'), invert = TRUE)"
   ]
  },
  {
   "cell_type": "code",
   "execution_count": null,
   "id": "f8350ed9-95d9-4afc-b645-99e656f6d539",
   "metadata": {},
   "outputs": [],
   "source": [
    "celltype_df_func <- function(seurat_object, metadata_slot, id_list){\n",
    "    seurat_object <- SetIdent(seurat_object, value = metadata_slot)\n",
    "    subset_object <- subset(seurat_object, idents = id_list[[1]])\n",
    "    df <- as.data.frame(table(subset_object$pbmc_sample_id))\n",
    "    colnames(df) <- c('sample',id_list[[1]])\n",
    "    i = 2\n",
    "    while(i < length(id_list) + 1){\n",
    "        subset_object <- subset(seurat_object, idents = id_list[[i]])\n",
    "        df2 <- as.data.frame(table(subset_object$pbmc_sample_id))\n",
    "        df[,ncol(df) + 1] <- df2$Freq\n",
    "        colnames(df)[ncol(df)] <- paste0(id_list[[i]])\n",
    "        #df$id_list[[i]] <- df2$Freq\n",
    "        i = i + 1\n",
    "        }\n",
    "    df\n",
    "    }"
   ]
  },
  {
   "cell_type": "code",
   "execution_count": null,
   "id": "f1778618-1992-4993-9350-3be38a2ed57b",
   "metadata": {},
   "outputs": [],
   "source": [
    "table(mnp_pure$pbmc_sample_id)"
   ]
  },
  {
   "cell_type": "code",
   "execution_count": null,
   "id": "c008d03f-5917-48e2-ad8f-7c38a3434e7e",
   "metadata": {},
   "outputs": [],
   "source": [
    "cluster_counts <- dplyr::count(mnp_pure@meta.data, sub.cluster, pbmc_sample_id, pediatric_senior)"
   ]
  },
  {
   "cell_type": "code",
   "execution_count": null,
   "id": "b3fc02a6-7c19-46a8-ac27-d7578c4e878f",
   "metadata": {},
   "outputs": [],
   "source": [
    "sum_counts <- mnp_pure@meta.data %>%\n",
    "                dplyr::count(pediatric_senior, pbmc_sample_id)"
   ]
  },
  {
   "cell_type": "code",
   "execution_count": null,
   "id": "d7f153a6-6bad-4d17-b5a2-95269ddd47b7",
   "metadata": {},
   "outputs": [],
   "source": [
    "joined_counts <- left_join(cluster_counts, sum_counts, by = 'pbmc_sample_id')\n",
    "joined_counts$perc <- joined_counts$n.x/joined_counts$n.y"
   ]
  },
  {
   "cell_type": "code",
   "execution_count": null,
   "id": "7a318b10-b68e-439d-99f4-9ffaa8d6ee3b",
   "metadata": {},
   "outputs": [],
   "source": [
    "options(repr.plot.width = 20, repr.plot.height = 10)\n",
    "ggplot(joined_counts, aes(x = sub.cluster, y = perc, fill = pediatric_senior.x)) + \n",
    "    geom_boxplot() + \n",
    "    geom_dotplot(binaxis='y', stackdir='center',\n",
    "                 position=position_dodge(), binwidth = 1/40) + theme_bw() +\n",
    "    theme(axis.text.x = element_text(angle = 90, hjust = 1, vjust = 0.5, size = 15),\n",
    "          axis.text.y = element_text(size = 15)) +\n",
    "    guides(fill = guide_legend(title = 'Pediatric / Senior')) +\n",
    "    xlab(\"Cluster\") + \n",
    "    ylab(\"Percent\")"
   ]
  },
  {
   "cell_type": "code",
   "execution_count": null,
   "id": "c6ba95a7-4e8e-4a70-8ffa-67552e1e7185",
   "metadata": {},
   "outputs": [],
   "source": [
    "cluster_counts <- dplyr::count(mnp@meta.data, sub.cluster, pediatric_senior)\n",
    "sum_counts <- mnp@meta.data %>%\n",
    "                dplyr::count(pediatric_senior)"
   ]
  },
  {
   "cell_type": "code",
   "execution_count": null,
   "id": "fd4c3752-48ed-47e8-9429-4fe85cfd0abb",
   "metadata": {},
   "outputs": [],
   "source": [
    "joined_counts <- left_join(cluster_counts, sum_counts, by = 'pediatric_senior')\n",
    "joined_counts$perc <- joined_counts$n.x/joined_counts$n.y"
   ]
  },
  {
   "cell_type": "code",
   "execution_count": null,
   "id": "d0fe7c0f-0484-4312-b30f-11f8d948b0da",
   "metadata": {},
   "outputs": [],
   "source": [
    "joined_counts"
   ]
  },
  {
   "cell_type": "code",
   "execution_count": null,
   "id": "4d02fa11-cb27-4fcb-8155-b866a8908a74",
   "metadata": {},
   "outputs": [],
   "source": [
    "options(repr.plot.width = 6, repr.plot.height = 10)\n",
    "ggplot(joined_counts, aes(x = pediatric_senior, y = perc, fill = sub.cluster)) + \n",
    "    geom_bar(position=\"fill\", stat=\"identity\") + theme_bw()"
   ]
  },
  {
   "cell_type": "code",
   "execution_count": null,
   "id": "387c99de-38ff-4023-8964-692a99109bca",
   "metadata": {},
   "outputs": [],
   "source": [
    "cluster_counts <- dplyr::count(mnp_pure@meta.data, sub.cluster, pediatric_senior)\n",
    "sum_counts <- mnp_pure@meta.data %>%\n",
    "                dplyr::count(pediatric_senior)"
   ]
  },
  {
   "cell_type": "code",
   "execution_count": null,
   "id": "7772bb6e-86ad-4ee4-bf64-1ce1d179bd35",
   "metadata": {},
   "outputs": [],
   "source": [
    "joined_counts <- left_join(cluster_counts, sum_counts, by = 'pediatric_senior')\n",
    "joined_counts$perc <- joined_counts$n.x/joined_counts$n.y"
   ]
  },
  {
   "cell_type": "code",
   "execution_count": null,
   "id": "1ffd22a7-cfa3-4f93-b0ff-fc417b72f416",
   "metadata": {},
   "outputs": [],
   "source": [
    "joined_counts"
   ]
  },
  {
   "cell_type": "code",
   "execution_count": null,
   "id": "3dc207f0-5901-4595-8ebc-dacb28dc4b3f",
   "metadata": {},
   "outputs": [],
   "source": [
    "options(repr.plot.width = 10, repr.plot.height = 10)\n",
    "ggplot(joined_counts, aes(x = pediatric_senior, y = perc, fill = sub.cluster)) + \n",
    "    geom_bar(position=\"fill\", stat=\"identity\") + theme_bw()"
   ]
  },
  {
   "cell_type": "code",
   "execution_count": null,
   "id": "88857a9a-e5e5-4432-b278-1a0df7b043de",
   "metadata": {},
   "outputs": [],
   "source": [
    "mnp_age <- SplitObject(mnp, split.by = 'pediatric_senior')\n",
    "mnp_cmv <- SplitObject(mnp_age$Pediatric, split.by = 'CMV')"
   ]
  },
  {
   "cell_type": "markdown",
   "id": "a5dcbdce-9d23-4a9f-b782-84f289cadc82",
   "metadata": {},
   "source": [
    "## ExtFig8d"
   ]
  },
  {
   "cell_type": "code",
   "execution_count": null,
   "id": "29e34b79-a80f-4055-ba85-94d02e4c9cea",
   "metadata": {},
   "outputs": [],
   "source": [
    "options(repr.plot.width = 20, repr.plot.height = 5)\n",
    "DimPlot(mnp_cmv$Negative, group.by = 'sub.cluster', split.by = 'pbmc_sample_id', ncol = 4, reduction = 'wnn.3.umap', pt.size = 1) & NoLegend()\n",
    "DimPlot(mnp_cmv$Positive, group.by = 'sub.cluster', split.by = 'pbmc_sample_id', ncol = 4, reduction = 'wnn.3.umap', pt.size = 1) & NoLegend()"
   ]
  },
  {
   "cell_type": "code",
   "execution_count": null,
   "id": "d9ebad28-2493-4fbc-84b7-2a83109d20f8",
   "metadata": {},
   "outputs": [],
   "source": [
    "# Open a pdf file\n",
    "pdf(\"plots/mnp2_pediatric_cmv_neg.pdf\", width = 20, height = 5) \n",
    "# 2. Create a plot\n",
    "DimPlot(mnp_cmv$Negative, group.by = 'sub.cluster', split.by = 'pbmc_sample_id', ncol = 4, reduction = 'wnn.3.umap', pt.size = 1.5) & NoLegend()\n",
    "# Close the pdf file\n",
    "dev.off() "
   ]
  },
  {
   "cell_type": "code",
   "execution_count": null,
   "id": "afc4d57f-a627-432f-9141-9849526da4d3",
   "metadata": {},
   "outputs": [],
   "source": [
    "# Open a pdf file\n",
    "pdf(\"plots/mnp2_pediatric_cmv_pos.pdf\", width = 20, height = 5) \n",
    "# 2. Create a plot\n",
    "DimPlot(mnp_cmv$Positive, group.by = 'sub.cluster', split.by = 'pbmc_sample_id', ncol = 4, reduction = 'wnn.3.umap', pt.size = 1.5) & NoLegend()\n",
    "# Close the pdf file\n",
    "dev.off() "
   ]
  },
  {
   "cell_type": "code",
   "execution_count": null,
   "id": "93a58bfe-f164-4525-bb72-06b656eac798",
   "metadata": {},
   "outputs": [],
   "source": [
    "celltype_df_func <- function(seurat_object, metadata_slot, id_list){\n",
    "    seurat_object <- SetIdent(seurat_object, value = metadata_slot)\n",
    "    subset_object <- subset(seurat_object, idents = id_list[[1]])\n",
    "    df <- as.data.frame(table(subset_object$pbmc_sample_id))\n",
    "    colnames(df) <- c('sample',id_list[[1]])\n",
    "    i = 2\n",
    "    while(i < length(id_list) + 1){\n",
    "        subset_object <- subset(seurat_object, idents = id_list[[i]])\n",
    "        df2 <- as.data.frame(table(subset_object$pbmc_sample_id))\n",
    "        df[,ncol(df) + 1] <- df2$Freq\n",
    "        colnames(df)[ncol(df)] <- paste0(id_list[[i]])\n",
    "        #df$id_list[[i]] <- df2$Freq\n",
    "        i = i + 1\n",
    "        }\n",
    "    df\n",
    "    }"
   ]
  },
  {
   "cell_type": "code",
   "execution_count": null,
   "id": "c7cc0325-70d2-48b0-9c7f-b1bd57b28cb5",
   "metadata": {},
   "outputs": [],
   "source": [
    "ped_negative <- celltype_df_func(mnp_cmv$Negative, 'sub.cluster.clean', sort(unique(mnp_cmv$Negative$sub.cluster.clean)))"
   ]
  },
  {
   "cell_type": "code",
   "execution_count": null,
   "id": "a04eaa79-4231-46f1-a17c-10754330273f",
   "metadata": {},
   "outputs": [],
   "source": [
    "head(ped_negative)"
   ]
  },
  {
   "cell_type": "code",
   "execution_count": null,
   "id": "05cf3a93-9503-496a-a4a0-31e6292588c9",
   "metadata": {},
   "outputs": [],
   "source": [
    "rownames(ped_negative) <- ped_negative$sample\n",
    "ped_negative <- ped_negative[,2:8]\n",
    "colnames(ped_negative) <- sort(unique(mnp_cmv$Negative$sub.cluster.clean))\n",
    "ped_negative"
   ]
  },
  {
   "cell_type": "code",
   "execution_count": null,
   "id": "bab32ddc-b0f7-4601-9793-7a4b29dce626",
   "metadata": {},
   "outputs": [],
   "source": [
    "ped_sums_neg <- rowSums(ped_negative)"
   ]
  },
  {
   "cell_type": "code",
   "execution_count": null,
   "id": "239a8fa6-78bb-4d2f-a8d8-0be5d81f3653",
   "metadata": {},
   "outputs": [],
   "source": [
    "ped_perc_neg <- ped_negative / ped_sums_neg\n",
    "ped_perc_neg"
   ]
  },
  {
   "cell_type": "code",
   "execution_count": null,
   "id": "f4da5adb-4a39-4c35-afc4-4bc739eb3db5",
   "metadata": {},
   "outputs": [],
   "source": [
    "ped_perc_neg$sample <- rownames(ped_perc_neg)\n",
    "head(ped_perc_neg)"
   ]
  },
  {
   "cell_type": "code",
   "execution_count": null,
   "id": "a08c166f-3e72-4cb1-932b-f0cc1f35b167",
   "metadata": {},
   "outputs": [],
   "source": [
    "# col_order <- c('CD4 Naive','CD4 CM','CD4 EM1','CD4 EM2','CD4 TEMRA','Treg','CD8 Naive','CD8 CM','CD8 EM1','CD8 EM2','CD8 TEMRA','sample')\n",
    "# ped_perc2 <- ped_perc[,col_order]\n",
    "# head(ped_perc2)"
   ]
  },
  {
   "cell_type": "code",
   "execution_count": null,
   "id": "d936fb28-3712-4d29-903d-ac21a0b1168e",
   "metadata": {},
   "outputs": [],
   "source": [
    "library(tidyr)"
   ]
  },
  {
   "cell_type": "code",
   "execution_count": null,
   "id": "5e93b5c0-c485-4a4e-8a94-ba3bd6669418",
   "metadata": {},
   "outputs": [],
   "source": [
    "ped_percs_neg_tall <- gather(data = ped_perc_neg, key = cluster, value = cluster_perc, `1`:`7`, factor_key = TRUE)\n",
    "head(ped_percs_neg_tall)"
   ]
  },
  {
   "cell_type": "markdown",
   "id": "ab0a4010-7682-499e-932e-018491cb80b7",
   "metadata": {
    "toc-hr-collapsed": true
   },
   "source": [
    "### Plot - ExtFig 8e"
   ]
  },
  {
   "cell_type": "code",
   "execution_count": null,
   "id": "4c6ba247-78ac-4bca-ad44-850147776237",
   "metadata": {},
   "outputs": [],
   "source": [
    "options(repr.plot.width = 4, repr.plot.height = 12)\n",
    "ggplot(ped_percs_neg_tall, aes(x = sample, y = cluster_perc, fill = cluster, label = round(cluster_perc,2))) + \n",
    "       geom_bar(stat = \"identity\", position = 'fill', colour = 'white') + \n",
    "       # scale_fill_manual(values = c('#64B200','#F8766D','#DB8E00','#AEA200','#00BD5C','#FF63B6','#B385FF','#00C1A7','#00BADE','#00A6FF','#EF67EB')) +\n",
    "       theme(axis.text.x = element_text(size = 15, angle = 90, hjust = 1, vjust = 0.5), axis.title.x = element_text(size = 20))"
   ]
  },
  {
   "cell_type": "code",
   "execution_count": null,
   "id": "2ecbfa15-4601-4556-84f5-daca25b63b1b",
   "metadata": {},
   "outputs": [],
   "source": [
    "# Open a pdf file\n",
    "pdf(\"plots/mnp2_pediatric_cmv_neg_barplot.pdf\", width = 4, height = 12) \n",
    "# 2. Create a plot\n",
    "ggplot(ped_percs_neg_tall, aes(x = sample, y = cluster_perc, fill = cluster, label = round(cluster_perc,2))) + \n",
    "       geom_bar(stat = \"identity\", position = 'fill', colour = 'white') + \n",
    "       # scale_fill_manual(values = c('#64B200','#F8766D','#DB8E00','#AEA200','#00BD5C','#FF63B6','#B385FF','#00C1A7','#00BADE','#00A6FF','#EF67EB')) +\n",
    "       theme(axis.text.x = element_text(size = 15, angle = 90, hjust = 1, vjust = 0.5), axis.title.x = element_text(size = 20))\n",
    "# Close the pdf file\n",
    "dev.off() "
   ]
  },
  {
   "cell_type": "code",
   "execution_count": null,
   "id": "ec6b5df8-0187-4ecd-8e32-ef536fee62fc",
   "metadata": {},
   "outputs": [],
   "source": [
    "ped_positive <- celltype_df_func(mnp_cmv$Positive, 'sub.cluster.clean', sort(unique(mnp_cmv$Positive$sub.cluster.clean)))"
   ]
  },
  {
   "cell_type": "code",
   "execution_count": null,
   "id": "4c949d28-a238-40d1-b993-3ca1aa56759d",
   "metadata": {},
   "outputs": [],
   "source": [
    "head(ped_positive)"
   ]
  },
  {
   "cell_type": "code",
   "execution_count": null,
   "id": "2ea4c3d2-b80f-4a72-8d14-38f1403dc1a3",
   "metadata": {},
   "outputs": [],
   "source": [
    "rownames(ped_positive) <- ped_positive$sample\n",
    "ped_positive <- ped_positive[,2:8]\n",
    "colnames(ped_positive) <- sort(unique(mnp_cmv$Positive$sub.cluster.clean))\n",
    "ped_positive"
   ]
  },
  {
   "cell_type": "code",
   "execution_count": null,
   "id": "894b0e4f-6d66-41d3-a81c-ce3190ae71ce",
   "metadata": {},
   "outputs": [],
   "source": [
    "ped_sums_pos <- rowSums(ped_positive)"
   ]
  },
  {
   "cell_type": "code",
   "execution_count": null,
   "id": "3dc06253-d773-431b-ba1b-5a8bbb17846c",
   "metadata": {},
   "outputs": [],
   "source": [
    "ped_perc_pos <- ped_positive / ped_sums_pos\n",
    "ped_perc_pos"
   ]
  },
  {
   "cell_type": "code",
   "execution_count": null,
   "id": "355ca40d-4fc7-49d6-9317-9aeccfa4e1e0",
   "metadata": {},
   "outputs": [],
   "source": [
    "ped_perc_pos$sample <- rownames(ped_perc_pos)\n",
    "head(ped_perc_pos)"
   ]
  },
  {
   "cell_type": "code",
   "execution_count": null,
   "id": "cb9092d5-963c-4d64-a24c-1b34d62140e6",
   "metadata": {},
   "outputs": [],
   "source": [
    "# col_order <- c('CD4 Naive','CD4 CM','CD4 EM1','CD4 EM2','CD4 TEMRA','Treg','CD8 Naive','CD8 CM','CD8 EM1','CD8 EM2','CD8 TEMRA','sample')\n",
    "# ped_perc2 <- ped_perc[,col_order]\n",
    "# head(ped_perc2)"
   ]
  },
  {
   "cell_type": "code",
   "execution_count": null,
   "id": "0493fa9a-61b4-4c4e-91fa-6e5ff5869f9a",
   "metadata": {},
   "outputs": [],
   "source": [
    "library(tidyr)"
   ]
  },
  {
   "cell_type": "code",
   "execution_count": null,
   "id": "ecf11131-2c5a-4934-b15d-4e2a85e3e074",
   "metadata": {},
   "outputs": [],
   "source": [
    "ped_percs_pos_tall <- gather(data = ped_perc_pos, key = cluster, value = cluster_perc, `1`:`7`, factor_key = TRUE)\n",
    "head(ped_percs_pos_tall)"
   ]
  },
  {
   "cell_type": "markdown",
   "id": "1460a542-1c6a-4c42-9581-7a3fb77958b9",
   "metadata": {
    "toc-hr-collapsed": true
   },
   "source": [
    "### Plot"
   ]
  },
  {
   "cell_type": "code",
   "execution_count": null,
   "id": "3af51641-ae4d-43df-8992-9528f809a88c",
   "metadata": {},
   "outputs": [],
   "source": [
    "options(repr.plot.width = 4, repr.plot.height = 12)\n",
    "ggplot(ped_percs_pos_tall, aes(x = sample, y = cluster_perc, fill = cluster, label = round(cluster_perc,2))) + \n",
    "       geom_bar(stat = \"identity\", position = 'fill', colour = 'white') + \n",
    "       # scale_fill_manual(values = c('#64B200','#F8766D','#DB8E00','#AEA200','#00BD5C','#FF63B6','#B385FF','#00C1A7','#00BADE','#00A6FF','#EF67EB')) +\n",
    "       theme(axis.text.x = element_text(size = 15, angle = 90, hjust = 1, vjust = 0.5), axis.title.x = element_text(size = 20))"
   ]
  },
  {
   "cell_type": "code",
   "execution_count": null,
   "id": "56025fa9-ff59-4e4e-8272-193f6d36c82f",
   "metadata": {},
   "outputs": [],
   "source": [
    "# Open a pdf file\n",
    "pdf(\"plots/mnp2_pediatric_cmv_pos_barplot.pdf\", width = 4, height = 12) \n",
    "# 2. Create a plot\n",
    "ggplot(ped_percs_pos_tall, aes(x = sample, y = cluster_perc, fill = cluster, label = round(cluster_perc,2))) + \n",
    "       geom_bar(stat = \"identity\", position = 'fill', colour = 'white') + \n",
    "       # scale_fill_manual(values = c('#64B200','#F8766D','#DB8E00','#AEA200','#00BD5C','#FF63B6','#B385FF','#00C1A7','#00BADE','#00A6FF','#EF67EB')) +\n",
    "       theme(axis.text.x = element_text(size = 15, angle = 90, hjust = 1, vjust = 0.5), axis.title.x = element_text(size = 20))\n",
    "# Close the pdf file\n",
    "dev.off() "
   ]
  },
  {
   "cell_type": "code",
   "execution_count": null,
   "id": "7285bf19-d3c3-41ff-b131-6d71e9d93eb0",
   "metadata": {},
   "outputs": [],
   "source": [
    "write.csv(ped_perc_neg, 'mnp2_ped_perc_neg.csv')\n",
    "write.csv(ped_perc_pos, 'mnp2_ped_perc_pos.csv')"
   ]
  },
  {
   "cell_type": "code",
   "execution_count": null,
   "id": "c861ee83-bf0a-4e65-938b-75853b88d89c",
   "metadata": {},
   "outputs": [],
   "source": [
    "ped_sums_neg\n",
    "ped_sums_pos"
   ]
  },
  {
   "cell_type": "markdown",
   "id": "e739fbfb-ac2b-41ee-8758-9a010fa6b413",
   "metadata": {},
   "source": [
    "# Pediatric BarPlots"
   ]
  },
  {
   "cell_type": "code",
   "execution_count": null,
   "id": "411fe04c-19bb-408e-b5df-2e20a8af2bd1",
   "metadata": {},
   "outputs": [],
   "source": [
    "celltype_df_func <- function(seurat_object, metadata_slot, id_list){\n",
    "    seurat_object <- SetIdent(seurat_object, value = metadata_slot)\n",
    "    subset_object <- subset(seurat_object, idents = id_list[[1]])\n",
    "    df <- as.data.frame(table(subset_object$pbmc_sample_id))\n",
    "    colnames(df) <- c('sample',id_list[[1]])\n",
    "    i = 2\n",
    "    while(i < length(id_list) + 1){\n",
    "        subset_object <- subset(seurat_object, idents = id_list[[i]])\n",
    "        df2 <- as.data.frame(table(subset_object$pbmc_sample_id))\n",
    "        df[,ncol(df) + 1] <- df2$Freq\n",
    "        colnames(df)[ncol(df)] <- paste0(id_list[[i]])\n",
    "        #df$id_list[[i]] <- df2$Freq\n",
    "        i = i + 1\n",
    "        }\n",
    "    df\n",
    "    }"
   ]
  },
  {
   "cell_type": "code",
   "execution_count": null,
   "id": "a4583126-2de1-45df-9766-6fe9c673710a",
   "metadata": {},
   "outputs": [],
   "source": [
    "mnp_split <- SplitObject(mnp, split.by = 'pediatric_senior')"
   ]
  },
  {
   "cell_type": "code",
   "execution_count": null,
   "id": "617f08fb-77bf-413d-af52-16a420b3493c",
   "metadata": {},
   "outputs": [],
   "source": [
    "ped_celltype <- celltype_df_func(mnp_split$Pediatric, 'sub.cluster', sort(unique(mnp_split$Pediatric$sub.cluster)))"
   ]
  },
  {
   "cell_type": "code",
   "execution_count": null,
   "id": "685e09c8-93f8-483f-9393-51f76f1128b3",
   "metadata": {},
   "outputs": [],
   "source": [
    "head(ped_celltype)"
   ]
  },
  {
   "cell_type": "code",
   "execution_count": null,
   "id": "5a4fc860-f4e0-495d-aeb5-856d011d5d46",
   "metadata": {},
   "outputs": [],
   "source": [
    "rownames(ped_celltype) <- ped_celltype$sample\n",
    "ped_celltype <- ped_celltype[,2:8]\n",
    "colnames(ped_celltype) <- sort(unique(mnp_split$Pediatric$sub.cluster))\n",
    "ped_celltype"
   ]
  },
  {
   "cell_type": "code",
   "execution_count": null,
   "id": "25919129-8b5a-42a8-8424-688eb2851964",
   "metadata": {},
   "outputs": [],
   "source": [
    "ped_sums <- rowSums(ped_celltype)"
   ]
  },
  {
   "cell_type": "code",
   "execution_count": null,
   "id": "e8b1e431-696b-4f8f-afba-9e6359cf4138",
   "metadata": {},
   "outputs": [],
   "source": [
    "ped_perc <- ped_celltype / ped_sums\n",
    "ped_perc"
   ]
  },
  {
   "cell_type": "code",
   "execution_count": null,
   "id": "dbf4388d-34a6-4002-a2f7-4dafd146727f",
   "metadata": {},
   "outputs": [],
   "source": [
    "ped_perc$sample <- rownames(ped_perc)\n",
    "head(ped_perc)"
   ]
  },
  {
   "cell_type": "code",
   "execution_count": null,
   "id": "d542246d-e599-44bf-8b90-c2694900882b",
   "metadata": {},
   "outputs": [],
   "source": [
    "# col_order <- c('CD4 Naive','CD4 CM','CD4 EM1','CD4 EM2','CD4 TEMRA','Treg','CD8 Naive','CD8 CM','CD8 EM1','CD8 EM2','CD8 TEMRA','sample')\n",
    "# ped_perc2 <- ped_perc[,col_order]\n",
    "# head(ped_perc2)"
   ]
  },
  {
   "cell_type": "code",
   "execution_count": null,
   "id": "75b83d14-02d8-46d6-851b-d97396ae24f5",
   "metadata": {},
   "outputs": [],
   "source": [
    "library(tidyr)"
   ]
  },
  {
   "cell_type": "code",
   "execution_count": null,
   "id": "dd08592d-fee5-4a8a-9dee-e4e39aaea486",
   "metadata": {},
   "outputs": [],
   "source": [
    "ped_percs_tall <- gather(data = ped_perc, key = cluster, value = cluster_perc, `0`:`5`, factor_key = TRUE)\n",
    "head(ped_percs_tall)"
   ]
  },
  {
   "cell_type": "markdown",
   "id": "6620344a-8eb5-4f94-bbc2-aa25fdbc0ed2",
   "metadata": {
    "toc-hr-collapsed": true
   },
   "source": [
    "### Plot"
   ]
  },
  {
   "cell_type": "code",
   "execution_count": null,
   "id": "fdb5710c-00c1-4f86-bd7c-9c751b614755",
   "metadata": {},
   "outputs": [],
   "source": [
    "options(repr.plot.width = 4, repr.plot.height = 12)\n",
    "ggplot(ped_percs_tall, aes(x = sample, y = cluster_perc, fill = cluster, label = round(cluster_perc,2))) + \n",
    "       geom_bar(stat = \"identity\", position = 'fill', colour = 'white') + \n",
    "       # scale_fill_manual(values = c('#64B200','#F8766D','#DB8E00','#AEA200','#00BD5C','#FF63B6','#B385FF','#00C1A7','#00BADE','#00A6FF','#EF67EB')) +\n",
    "       theme(axis.text.x = element_text(size = 15, angle = 90, hjust = 1, vjust = 0.5), axis.title.x = element_text(size = 20))"
   ]
  },
  {
   "cell_type": "markdown",
   "id": "9bd29536-cb45-491b-acdc-acdd9f3bf46e",
   "metadata": {},
   "source": [
    "# Cluster DEGs"
   ]
  },
  {
   "cell_type": "code",
   "execution_count": null,
   "id": "6d5cbbb1-2e54-4f8f-b60c-190f0875b103",
   "metadata": {},
   "outputs": [],
   "source": [
    "DefaultAssay(mnp) <- 'RNA'\n",
    "mnp <- NormalizeData(mnp, assay = 'RNA') %>% ScaleData(features = rownames(mnp[['RNA']]))"
   ]
  },
  {
   "cell_type": "code",
   "execution_count": null,
   "id": "e0190264-0e2a-4450-bd4d-be0c921fc318",
   "metadata": {},
   "outputs": [],
   "source": [
    "cluster_degs <- FindAllMarkers(mnp, assay = 'RNA', group.by = 'sub.cluster.clean')"
   ]
  },
  {
   "cell_type": "code",
   "execution_count": null,
   "id": "d465e821-5cfc-4dc3-801e-17bb5c14f3c1",
   "metadata": {},
   "outputs": [],
   "source": [
    "options(repr.plot.width = 14, repr.plot.height = 8)\n",
    "cluster_degs %>%\n",
    "    group_by(cluster) %>%\n",
    "    top_n(n = 10, wt = avg_log2FC) -> top10\n",
    "DoHeatmap(mnp, features = top10$gene) + NoLegend()"
   ]
  },
  {
   "cell_type": "code",
   "execution_count": null,
   "id": "f850674c-9a91-434e-b9e9-b0592d1e4bda",
   "metadata": {},
   "outputs": [],
   "source": [
    "options(repr.plot.width = 18, repr.plot.height = 12)\n",
    "FeaturePlot(mnp, features = c('KLRC2','GZMK','MME','GNG4','IKZF2','ZNF683'), ncol = 3, reduction = 'wnn.3.umap', order = TRUE)"
   ]
  },
  {
   "cell_type": "markdown",
   "id": "1eab91b1-98c1-43f9-9143-5ea5a1fdf741",
   "metadata": {},
   "source": [
    "# Fig6k"
   ]
  },
  {
   "cell_type": "code",
   "execution_count": null,
   "id": "dce6d51c-3974-4fa0-a9d5-c4aca25f4265",
   "metadata": {},
   "outputs": [],
   "source": [
    "options(repr.plot.width = 6, repr.plot.height = 10)\n",
    "FeaturePlot(mnp, features = c('LEF1','TBX21'), ncol = 1, reduction = 'wnn.3.umap', order = TRUE)"
   ]
  },
  {
   "cell_type": "code",
   "execution_count": null,
   "id": "35ca9fb1-3ed7-493c-b3c6-7610b09ea59e",
   "metadata": {},
   "outputs": [],
   "source": [
    "options(repr.plot.width = 18, repr.plot.height = 12)\n",
    "FeaturePlot(mnp, features = c('KLRC2','KLRC3','MME','GNG4','IKZF2','ZNF683'), ncol = 3, reduction = 'wnn.3.umap', order = TRUE)"
   ]
  },
  {
   "cell_type": "code",
   "execution_count": null,
   "id": "6ad68cbf-c65e-4b53-8fa3-edb788c249e5",
   "metadata": {},
   "outputs": [],
   "source": [
    "options(repr.plot.width = 18, repr.plot.height = 12)\n",
    "FeaturePlot(mnp, features = c('GNLY','TBX21','ITGB1','CXCR4','TOX','CR1'), ncol = 3, reduction = 'wnn.3.umap', order = TRUE)"
   ]
  },
  {
   "cell_type": "code",
   "execution_count": null,
   "id": "7164ebe5-3e18-4ac0-bb06-a27ec4f068ca",
   "metadata": {},
   "outputs": [],
   "source": [
    "FeaturePlot(mnp, features = c('TRAC','TRBC1','TRBC2','TRDC','TRGC1','TRGC2'), ncol = 3, reduction = 'wnn.3.umap', order = TRUE)"
   ]
  },
  {
   "cell_type": "markdown",
   "id": "3fa6b9be-07ae-4548-9113-f7d9a4ffbdaa",
   "metadata": {},
   "source": [
    "# ADT Expression"
   ]
  },
  {
   "cell_type": "code",
   "execution_count": null,
   "id": "fcc88f9d-78a9-45d1-a1e5-6f8714c5b228",
   "metadata": {},
   "outputs": [],
   "source": [
    "options(repr.plot.width = 20, repr.plot.height = 7)\n",
    "FeaturePlot(mnp, features = c('cleanadt_CD244','cleanadt_CD11b'), ncol = 3, reduction = 'wnn.3.umap')"
   ]
  },
  {
   "cell_type": "code",
   "execution_count": null,
   "id": "13f0a33c-7d99-43f9-9947-9d511990ac16",
   "metadata": {},
   "outputs": [],
   "source": [
    "options(repr.plot.width = 20, repr.plot.height = 6)\n",
    "plot_density(mnp, features = c('cleanadt_CD244','cleanadt_CD11b'), joint = TRUE)"
   ]
  },
  {
   "cell_type": "code",
   "execution_count": null,
   "id": "ec1b6615-e422-4128-a1eb-973067c56651",
   "metadata": {},
   "outputs": [],
   "source": [
    "table(mnp$pbmc_sample_id)"
   ]
  },
  {
   "cell_type": "code",
   "execution_count": null,
   "id": "2c660eb6-a644-467e-b678-67bf936eb097",
   "metadata": {},
   "outputs": [],
   "source": [
    "saveRDS(mnp, file = 'mnp_deep_analysis_2.rds')"
   ]
  },
  {
   "cell_type": "markdown",
   "id": "0e4a1807-9bb0-41a3-8a2d-ccdbb5593888",
   "metadata": {},
   "source": [
    "# Full Expression - Fig6j"
   ]
  },
  {
   "cell_type": "code",
   "execution_count": null,
   "id": "6411b7e8-39ca-4c66-b028-6db6c11db655",
   "metadata": {},
   "outputs": [],
   "source": [
    "options(repr.plot.width = 8, repr.plot.height = 4)\n",
    "DotPlot(mnp, col.min = 0, dot.scale = 8, features = c('KLRC2','ZNF683','MME','GZMK','CR1','TBX21',\n",
    "                          'GNG4','IKZF2','SOX4','STAT4','IL21R','PDCD1',\n",
    "                          'GNLY','adt_CD279','adt_TIGIT','adt_CD4','adt_CD8a','adt_CD244','adt_CD11b'), group.by = 'sub.cluster.clean') & \n",
    "theme(axis.text.x = element_text(angle = 90, hjust = 1, vjust = 0.5),\n",
    "      axis.text.y = element_text(angle = 90, hjust = 0.5, vjust = 1))"
   ]
  },
  {
   "cell_type": "code",
   "execution_count": null,
   "id": "f6f50cc5-b661-4913-b4ea-07849f5f2250",
   "metadata": {},
   "outputs": [],
   "source": [
    "# Open a pdf file\n",
    "pdf(\"plots/mnp2_dotplot.pdf\", width = 8, height = 4) \n",
    "# 2. Create a plot\n",
    "DotPlot(mnp, col.min = 0, dot.scale = 8, features = c('KLRC2','ZNF683','MME','GZMK','CR1','TBX21',\n",
    "                          'GNG4','IKZF2','SOX4','STAT4','IL21R','PDCD1',\n",
    "                          'GNLY','adt_CD279','adt_TIGIT','adt_CD4','adt_CD8a','adt_CD244','adt_CD11b'), group.by = 'sub.cluster.clean') & \n",
    "theme(axis.text.x = element_text(angle = 90, hjust = 1, vjust = 0.5),\n",
    "      axis.text.y = element_text(angle = 90, hjust = 0.5, vjust = 1))\n",
    "# Close the pdf file\n",
    "dev.off() "
   ]
  },
  {
   "cell_type": "code",
   "execution_count": null,
   "id": "5fb1e17a-a77f-43dd-a877-206711eae15a",
   "metadata": {},
   "outputs": [],
   "source": [
    "options(repr.plot.width = 20, repr.plot.height = 10)\n",
    "FeaturePlot(mnp, features = c('cleanadt_CD45RA','cleanadt_CD197','SELL','cleanadt_CD28','cleanadt_CD27'), ncol = 3, reduction = 'wnn.3.umap')"
   ]
  },
  {
   "cell_type": "code",
   "execution_count": null,
   "id": "ed81a6e5-2ade-4d29-891c-997d2239a5d6",
   "metadata": {},
   "outputs": [],
   "source": [
    "options(repr.plot.width = 8, repr.plot.height = 8)\n",
    "FeaturePlot(mnp, features = 'LEF1', reduction = 'wnn.3.umap')\n",
    "FeaturePlot(mnp, features = 'TBX21', reduction = 'wnn.3.umap')"
   ]
  },
  {
   "cell_type": "code",
   "execution_count": null,
   "id": "57bf522c-64a3-4fc1-8863-81733b1640ef",
   "metadata": {},
   "outputs": [],
   "source": [
    "# Open a pdf file\n",
    "pdf(\"plots/mnp2_lef1_umap.pdf\", width = 8, height = 8) \n",
    "# 2. Create a plot\n",
    "FeaturePlot(mnp, features = 'LEF1', reduction = 'wnn.3.umap')\n",
    "# Close the pdf file\n",
    "dev.off() "
   ]
  },
  {
   "cell_type": "code",
   "execution_count": null,
   "id": "9a7527e6-2b4b-4492-89bc-a5f341e87761",
   "metadata": {},
   "outputs": [],
   "source": [
    "# Open a pdf file\n",
    "pdf(\"plots/mnp2_tbx21_umap.pdf\", width = 8, height = 8) \n",
    "# 2. Create a plot\n",
    "FeaturePlot(mnp, features = 'TBX21', reduction = 'wnn.3.umap')\n",
    "# Close the pdf file\n",
    "dev.off() "
   ]
  },
  {
   "cell_type": "code",
   "execution_count": null,
   "id": "b5a7bd2a-7b94-41bf-af6b-0a9aed44dad1",
   "metadata": {},
   "outputs": [],
   "source": [
    "options(repr.plot.width = 8, repr.plot.height = 8)\n",
    "FeaturePlot(mnp, features = 'KLRC2', reduction = 'wnn.3.umap', order = TRUE, pt.size = 1.5) & scale_color_viridis()\n",
    "FeaturePlot(mnp, features = 'IL21R', reduction = 'wnn.3.umap', order = TRUE, pt.size = 1.5) & scale_color_viridis()"
   ]
  },
  {
   "cell_type": "code",
   "execution_count": null,
   "id": "5325ef89-6794-4ea4-b58e-4596c98c0a31",
   "metadata": {},
   "outputs": [],
   "source": [
    "options(repr.plot.width = 8, repr.plot.height = 8)\n",
    "FeaturePlot(mnp, features = 'ZBTB16', reduction = 'wnn.3.umap', order = TRUE, pt.size = 1.5) & scale_color_viridis()\n",
    "FeaturePlot(mnp, features = 'IL18R1', reduction = 'wnn.3.umap', order = TRUE, pt.size = 1.5) & scale_color_viridis()"
   ]
  },
  {
   "cell_type": "code",
   "execution_count": null,
   "id": "849b4fe5-915c-4292-975c-784f1300db66",
   "metadata": {},
   "outputs": [],
   "source": [
    "options(repr.plot.width = 8, repr.plot.height = 8)\n",
    "FeaturePlot(mnp, features = 'adt_CD11b', reduction = 'wnn.3.umap', order = TRUE, pt.size = 1.5) & scale_color_viridis(option = 'inferno')\n",
    "FeaturePlot(mnp, features = 'adt_CD244', reduction = 'wnn.3.umap', order = TRUE, pt.size = 1.5) & scale_color_viridis(option = 'inferno')"
   ]
  },
  {
   "cell_type": "code",
   "execution_count": null,
   "id": "3b2509b8-bd02-40a1-ab27-59bd93bde500",
   "metadata": {},
   "outputs": [],
   "source": [
    "# Open a pdf file\n",
    "pdf(\"plots/mnp2_ZBTB16_umap.pdf\", width = 8, height = 8) \n",
    "# 2. Create a plot\n",
    "FeaturePlot(mnp, features = 'ZBTB16', reduction = 'wnn.3.umap', order = TRUE, pt.size = 1.5) & scale_color_viridis()\n",
    "# Close the pdf file\n",
    "dev.off() "
   ]
  },
  {
   "cell_type": "code",
   "execution_count": null,
   "id": "3c0e252d-d704-4526-8f2a-ceeea8a5ad71",
   "metadata": {},
   "outputs": [],
   "source": [
    "# Open a pdf file\n",
    "pdf(\"plots/mnp2_IL18R1_umap.pdf\", width = 8, height = 8) \n",
    "# 2. Create a plot\n",
    "FeaturePlot(mnp, features = 'IL18R1', reduction = 'wnn.3.umap', order = TRUE, pt.size = 1.5) & scale_color_viridis()\n",
    "# Close the pdf file\n",
    "dev.off() "
   ]
  },
  {
   "cell_type": "code",
   "execution_count": null,
   "id": "cd23b620-b26b-45ca-8389-428f6866a6c7",
   "metadata": {},
   "outputs": [],
   "source": [
    "# Open a pdf file\n",
    "pdf(\"plots/mnp2_CD244_umap.pdf\", width = 8, height = 8) \n",
    "# 2. Create a plot\n",
    "FeaturePlot(mnp, features = 'adt_CD244', reduction = 'wnn.3.umap', order = TRUE, pt.size = 1.5) & scale_color_viridis(option = 'inferno')\n",
    "# Close the pdf file\n",
    "dev.off() "
   ]
  },
  {
   "cell_type": "code",
   "execution_count": null,
   "id": "863f0310-21f1-4aae-928c-b18899ae92c5",
   "metadata": {},
   "outputs": [],
   "source": [
    "# Open a pdf file\n",
    "pdf(\"plots/mnp2_CD11b_umap.pdf\", width = 8, height = 8) \n",
    "# 2. Create a plot\n",
    "FeaturePlot(mnp, features = 'adt_CD11b', reduction = 'wnn.3.umap', order = TRUE, pt.size = 1.5) & scale_color_viridis(option = 'inferno')\n",
    "# Close the pdf file\n",
    "dev.off() "
   ]
  },
  {
   "cell_type": "code",
   "execution_count": null,
   "id": "c6c7431d-0ee8-49d6-bc65-0cd2cb4c0ef0",
   "metadata": {},
   "outputs": [],
   "source": [
    "# Open a pdf file\n",
    "pdf(\"plots/mnp2_KLRC2_umap.pdf\", width = 8, height = 8) \n",
    "# 2. Create a plot\n",
    "FeaturePlot(mnp, features = 'KLRC2', reduction = 'wnn.3.umap', order = TRUE, pt.size = 1.5) & scale_color_viridis()\n",
    "# Close the pdf file\n",
    "dev.off() "
   ]
  },
  {
   "cell_type": "code",
   "execution_count": null,
   "id": "c709bd4c-063a-4f94-a679-c0dfd5b5336f",
   "metadata": {},
   "outputs": [],
   "source": [
    "# Open a pdf file\n",
    "pdf(\"plots/mnp2_IL21R_umap.pdf\", width = 8, height = 8) \n",
    "# 2. Create a plot\n",
    "FeaturePlot(mnp, features = 'IL21R', reduction = 'wnn.3.umap', order = TRUE, pt.size = 1.5) & scale_color_viridis()\n",
    "# Close the pdf file\n",
    "dev.off() "
   ]
  },
  {
   "cell_type": "code",
   "execution_count": null,
   "id": "f37defc0-faa0-4d32-a2c8-7d29bb1180fb",
   "metadata": {},
   "outputs": [],
   "source": [
    "options(repr.plot.width = 8, repr.plot.height = 8)\n",
    "FeaturePlot(mnp, features = 'MME', reduction = 'wnn.3.umap', order = TRUE, pt.size = 1.5) & scale_color_viridis()\n",
    "FeaturePlot(mnp, features = 'CR1', reduction = 'wnn.3.umap', order = TRUE, pt.size = 1.5) & scale_color_viridis()"
   ]
  },
  {
   "cell_type": "code",
   "execution_count": null,
   "id": "92413ba8-1b6e-4bce-9ad1-7e603016e28c",
   "metadata": {},
   "outputs": [],
   "source": [
    "options(repr.plot.width = 8, repr.plot.height = 8)\n",
    "FeaturePlot(mnp, features = 'PDCD1', reduction = 'wnn.3.umap', order = TRUE, pt.size = 1.5) & scale_color_viridis()\n",
    "FeaturePlot(mnp, features = 'adt_CD279', reduction = 'wnn.3.umap', order = TRUE, pt.size = 1.5) & scale_color_viridis(option = 'inferno')"
   ]
  },
  {
   "cell_type": "code",
   "execution_count": null,
   "id": "5189eabd-7c76-4201-8942-9904223f6828",
   "metadata": {},
   "outputs": [],
   "source": [
    "options(repr.plot.width = 8, repr.plot.height = 8)\n",
    "FeaturePlot(mnp, features = 'adt_CD4', reduction = 'wnn.3.umap', order = TRUE, pt.size = 1.5) & scale_color_viridis(option = 'inferno')\n",
    "FeaturePlot(mnp, features = 'adt_CD8a', reduction = 'wnn.3.umap', order = TRUE, pt.size = 1.5) & scale_color_viridis(option = 'inferno')"
   ]
  },
  {
   "cell_type": "code",
   "execution_count": null,
   "id": "c55656fe-7d8b-46cd-b145-ff90f4c143ea",
   "metadata": {},
   "outputs": [],
   "source": [
    "options(repr.plot.width = 24, repr.plot.height = 16)\n",
    "p1 <- FeaturePlot(mnp, features = 'MME', reduction = 'wnn.3.umap', order = TRUE, pt.size = 1.5) & scale_color_viridis()\n",
    "p2 <- FeaturePlot(mnp, features = 'CR1', reduction = 'wnn.3.umap', order = TRUE, pt.size = 1.5) & scale_color_viridis()\n",
    "p3 <- FeaturePlot(mnp, features = 'PDCD1', reduction = 'wnn.3.umap', order = TRUE, pt.size = 1.5) & scale_color_viridis()\n",
    "p4 <- FeaturePlot(mnp, features = 'adt_CD279', reduction = 'wnn.3.umap', order = TRUE, pt.size = 1.5) & scale_color_viridis(option = 'inferno')\n",
    "p5 <- FeaturePlot(mnp, features = 'adt_CD4', reduction = 'wnn.3.umap', order = TRUE, pt.size = 1.5) & scale_color_viridis(option = 'inferno')\n",
    "p6 <- FeaturePlot(mnp, features = 'adt_CD8a', reduction = 'wnn.3.umap', order = TRUE, pt.size = 1.5) & scale_color_viridis(option = 'inferno')"
   ]
  },
  {
   "cell_type": "code",
   "execution_count": null,
   "id": "74f46235-4cc0-4ef6-988f-63c88461db78",
   "metadata": {},
   "outputs": [],
   "source": [
    "plot_grid(p1, p2, p5, p3, p4, p6, ncol = 3)"
   ]
  },
  {
   "cell_type": "code",
   "execution_count": null,
   "id": "8123d0e0-a141-4cfe-985c-39e9f3b1eff2",
   "metadata": {},
   "outputs": [],
   "source": [
    "# Open a pdf file\n",
    "pdf(\"plots/mnp2_extfig8_b_umap.pdf\", width = 24, height = 16) \n",
    "# 2. Create a plot\n",
    "plot_grid(p1, p2, p5, p3, p4, p6, ncol = 3)\n",
    "# Close the pdf file\n",
    "dev.off() "
   ]
  },
  {
   "cell_type": "code",
   "execution_count": null,
   "id": "7dd1b3d7-7837-4e1f-99d8-59ace435994c",
   "metadata": {},
   "outputs": [],
   "source": [
    "options(repr.plot.width = 16, repr.plot.height = 16)\n",
    "p1 <- FeaturePlot(mnp, features = 'GZMK', reduction = 'wnn.3.umap', order = TRUE, pt.size = 1.5) & scale_color_viridis()\n",
    "p2 <- FeaturePlot(mnp, features = 'GNLY', reduction = 'wnn.3.umap', order = TRUE, pt.size = 1.5) & scale_color_viridis()\n",
    "p3 <- FeaturePlot(mnp, features = 'ITGB1', reduction = 'wnn.3.umap', order = TRUE, pt.size = 1.5) & scale_color_viridis()\n",
    "plot_grid(p1, p2, p3, ncol = 2)"
   ]
  },
  {
   "cell_type": "code",
   "execution_count": null,
   "id": "6335a869-bd6b-4dc0-8725-c2bbfe859c72",
   "metadata": {},
   "outputs": [],
   "source": [
    "# Open a pdf file\n",
    "pdf(\"plots/mnp2_extfig8_c_umap.pdf\", width = 16, height = 16) \n",
    "# 2. Create a plot\n",
    "plot_grid(p1, p2, p3, ncol = 2)\n",
    "# Close the pdf file\n",
    "dev.off()"
   ]
  },
  {
   "cell_type": "code",
   "execution_count": null,
   "id": "839223ad-b98b-48c2-92d6-20510668fb66",
   "metadata": {},
   "outputs": [],
   "source": [
    "options(repr.plot.width = 8, repr.plot.height = 8)\n",
    "FeaturePlot(mnp, features = 'FOXP1', reduction = 'wnn.3.umap', order = TRUE, pt.size = 1.5) & scale_color_viridis()"
   ]
  },
  {
   "cell_type": "code",
   "execution_count": null,
   "id": "a804f310-9ef3-44d7-92eb-820410ab288d",
   "metadata": {},
   "outputs": [],
   "source": [
    "# Open a pdf file\n",
    "pdf(\"plots/mnp2_FOXP1_umap.pdf\", width = 8, height = 8) \n",
    "# 2. Create a plot\n",
    "FeaturePlot(mnp, features = 'FOXP1', reduction = 'wnn.3.umap', order = TRUE, pt.size = 1.5) & scale_color_viridis()\n",
    "# Close the pdf file\n",
    "dev.off()"
   ]
  },
  {
   "cell_type": "code",
   "execution_count": null,
   "id": "48ecbd58-989f-4e5f-a1be-5a41c374edf0",
   "metadata": {},
   "outputs": [],
   "source": [
    "options(repr.plot.width = 8, repr.plot.height = 8)\n",
    "DimPlot(mnp, group.by = 'sub.cluster.clean', reduction = 'wnn.3.umap')"
   ]
  },
  {
   "cell_type": "code",
   "execution_count": null,
   "id": "211391c3-ab1d-4fb3-a94b-c45531ea4d02",
   "metadata": {},
   "outputs": [],
   "source": [
    "mnp <- SetIdent(mnp, value = 'sub.cluster.clean')\n",
    "mnp <- RenameIdents(mnp,\n",
    "                    '1' = '1',\n",
    "                    '2' = '1',\n",
    "                    '3' = '1',\n",
    "                    '4' = '2',\n",
    "                    '5' = '3',\n",
    "                    '6' = '4',\n",
    "                    '7' = '5')\n",
    "mnp$condensed.clusters <- Idents(mnp)"
   ]
  },
  {
   "cell_type": "code",
   "execution_count": null,
   "id": "ffc83b20-7457-4b79-82c9-1a5ab8890185",
   "metadata": {},
   "outputs": [],
   "source": [
    "options(repr.plot.width = 8, repr.plot.height = 8)\n",
    "DimPlot(mnp, group.by = 'condensed.clusters', reduction = 'wnn.3.umap', pt.size = 1.5) & NoLegend()"
   ]
  },
  {
   "cell_type": "code",
   "execution_count": null,
   "id": "ff2927ed-dcbf-47a2-8545-07aa5b2949e5",
   "metadata": {},
   "outputs": [],
   "source": [
    "# Open a pdf file\n",
    "pdf(\"plots/mnp2_condensed_clusters_umap.pdf\", width = 8, height = 8) \n",
    "# 2. Create a plot\n",
    "DimPlot(mnp, group.by = 'condensed.clusters', reduction = 'wnn.3.umap', pt.size = 1.5) & NoLegend()\n",
    "# Close the pdf file\n",
    "dev.off()"
   ]
  },
  {
   "cell_type": "code",
   "execution_count": null,
   "id": "37df337f-30b2-4e2e-9f25-a921de85aeb1",
   "metadata": {},
   "outputs": [],
   "source": []
  }
 ],
 "metadata": {
  "kernelspec": {
   "display_name": "R 4",
   "language": "R",
   "name": "ir"
  },
  "language_info": {
   "codemirror_mode": "r",
   "file_extension": ".r",
   "mimetype": "text/x-r-source",
   "name": "R",
   "pygments_lexer": "r",
   "version": "4.1.2"
  }
 },
 "nbformat": 4,
 "nbformat_minor": 5
}
